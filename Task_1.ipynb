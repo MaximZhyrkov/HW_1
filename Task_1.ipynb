{
 "cells": [
  {
   "cell_type": "markdown",
   "metadata": {},
   "source": [
    "# Домашнее задание по обработке текстов\n",
    "\n",
    "## Предсказание цены акции по экономическим новостям\n",
    "\n",
    "Входные данные:\n",
    "* Новости о компании \"Газпром\", начиная с 2010 года\n",
    "* Стоимость акций компании \"Газпром\" на ММВБ, начиная с 2010 года\n",
    "    * цена открытия (Open)\n",
    "    * цена закрытия (ClosingPrice)\n",
    "    * максимальная цена за день (DailyHigh)\n",
    "    * минимальная цена за день (DailyLow) \n",
    "    * объем бумаг (VolumePcs)\n"
   ]
  },
  {
   "cell_type": "code",
   "execution_count": 1,
   "metadata": {
    "collapsed": false
   },
   "outputs": [],
   "source": [
    "import pandas as pd\n",
    "df = pd.read_csv('Gazprom/texts.csv', parse_dates=['date'], dayfirst=True,index_col='date')"
   ]
  },
  {
   "cell_type": "code",
   "execution_count": 2,
   "metadata": {
    "collapsed": false
   },
   "outputs": [
    {
     "data": {
      "text/html": [
       "<div>\n",
       "<style scoped>\n",
       "    .dataframe tbody tr th:only-of-type {\n",
       "        vertical-align: middle;\n",
       "    }\n",
       "\n",
       "    .dataframe tbody tr th {\n",
       "        vertical-align: top;\n",
       "    }\n",
       "\n",
       "    .dataframe thead th {\n",
       "        text-align: right;\n",
       "    }\n",
       "</style>\n",
       "<table border=\"1\" class=\"dataframe\">\n",
       "  <thead>\n",
       "    <tr style=\"text-align: right;\">\n",
       "      <th></th>\n",
       "      <th>text</th>\n",
       "    </tr>\n",
       "    <tr>\n",
       "      <th>date</th>\n",
       "      <th></th>\n",
       "    </tr>\n",
       "  </thead>\n",
       "  <tbody>\n",
       "    <tr>\n",
       "      <th>2010-01-04</th>\n",
       "      <td></td>\n",
       "    </tr>\n",
       "    <tr>\n",
       "      <th>2010-01-11</th>\n",
       "      <td>Спорные вопросы по оплате за оказанные в пери...</td>\n",
       "    </tr>\n",
       "    <tr>\n",
       "      <th>2010-01-19</th>\n",
       "      <td>\"Газпром\" готов забирать весь объем азербайдж...</td>\n",
       "    </tr>\n",
       "  </tbody>\n",
       "</table>\n",
       "</div>"
      ],
      "text/plain": [
       "                                                         text\n",
       "date                                                         \n",
       "2010-01-04                                                   \n",
       "2010-01-11   Спорные вопросы по оплате за оказанные в пери...\n",
       "2010-01-19   \"Газпром\" готов забирать весь объем азербайдж..."
      ]
     },
     "execution_count": 2,
     "metadata": {},
     "output_type": "execute_result"
    }
   ],
   "source": [
    "df.sort_index(ascending=True, inplace=True)\n",
    "df.head(3)"
   ]
  },
  {
   "cell_type": "code",
   "execution_count": 3,
   "metadata": {
    "collapsed": false,
    "scrolled": true
   },
   "outputs": [],
   "source": [
    "pr_all = pd.read_csv('Gazprom/gazprom_prices.csv', sep=';', decimal=',', parse_dates=['Date'],\n",
    "                    dayfirst=True, index_col='Date')"
   ]
  },
  {
   "cell_type": "code",
   "execution_count": 4,
   "metadata": {
    "collapsed": false
   },
   "outputs": [
    {
     "data": {
      "text/html": [
       "<div>\n",
       "<style scoped>\n",
       "    .dataframe tbody tr th:only-of-type {\n",
       "        vertical-align: middle;\n",
       "    }\n",
       "\n",
       "    .dataframe tbody tr th {\n",
       "        vertical-align: top;\n",
       "    }\n",
       "\n",
       "    .dataframe thead th {\n",
       "        text-align: right;\n",
       "    }\n",
       "</style>\n",
       "<table border=\"1\" class=\"dataframe\">\n",
       "  <thead>\n",
       "    <tr style=\"text-align: right;\">\n",
       "      <th></th>\n",
       "      <th>Open</th>\n",
       "      <th>ClosingPrice</th>\n",
       "      <th>DailyHigh</th>\n",
       "      <th>DailyLow</th>\n",
       "      <th>VolumePcs</th>\n",
       "    </tr>\n",
       "    <tr>\n",
       "      <th>Date</th>\n",
       "      <th></th>\n",
       "      <th></th>\n",
       "      <th></th>\n",
       "      <th></th>\n",
       "      <th></th>\n",
       "    </tr>\n",
       "  </thead>\n",
       "  <tbody>\n",
       "    <tr>\n",
       "      <th>2010-01-11</th>\n",
       "      <td>192.50</td>\n",
       "      <td>194.5</td>\n",
       "      <td>196.90</td>\n",
       "      <td>191.00</td>\n",
       "      <td>59815603</td>\n",
       "    </tr>\n",
       "    <tr>\n",
       "      <th>2010-01-12</th>\n",
       "      <td>194.00</td>\n",
       "      <td>191.8</td>\n",
       "      <td>195.80</td>\n",
       "      <td>190.55</td>\n",
       "      <td>43482579</td>\n",
       "    </tr>\n",
       "    <tr>\n",
       "      <th>2010-01-13</th>\n",
       "      <td>189.72</td>\n",
       "      <td>189.3</td>\n",
       "      <td>191.86</td>\n",
       "      <td>188.30</td>\n",
       "      <td>52416087</td>\n",
       "    </tr>\n",
       "  </tbody>\n",
       "</table>\n",
       "</div>"
      ],
      "text/plain": [
       "              Open  ClosingPrice  DailyHigh  DailyLow  VolumePcs\n",
       "Date                                                            \n",
       "2010-01-11  192.50         194.5     196.90    191.00   59815603\n",
       "2010-01-12  194.00         191.8     195.80    190.55   43482579\n",
       "2010-01-13  189.72         189.3     191.86    188.30   52416087"
      ]
     },
     "execution_count": 4,
     "metadata": {},
     "output_type": "execute_result"
    }
   ],
   "source": [
    "pr_all.sort_index(ascending=True, inplace=True)\n",
    "pr_all.head(3)"
   ]
  },
  {
   "cell_type": "code",
   "execution_count": 5,
   "metadata": {
    "collapsed": false
   },
   "outputs": [
    {
     "name": "stderr",
     "output_type": "stream",
     "text": [
      "D:\\Anaconda\\lib\\site-packages\\gensim\\utils.py:860: UserWarning: detected Windows; aliasing chunkize to chunkize_serial\n",
      "  warnings.warn(\"detected Windows; aliasing chunkize to chunkize_serial\")\n"
     ]
    }
   ],
   "source": [
    "import re\n",
    "import nltk\n",
    "import pymorphy2 \n",
    "import pymystem3\n",
    "import codecs\n",
    "import gensim\n",
    "import pandas as pd\n",
    "import matplotlib.pyplot as plt\n",
    "import bokeh\n",
    "import seaborn as sns\n",
    "import random\n",
    "from pylab import pcolor, show, colorbar, xticks, yticks\n",
    "\n",
    "%matplotlib inline"
   ]
  },
  {
   "cell_type": "code",
   "execution_count": 6,
   "metadata": {
    "collapsed": false,
    "scrolled": true
   },
   "outputs": [
    {
     "name": "stdout",
     "output_type": "stream",
     "text": [
      "<class 'pandas.core.frame.DataFrame'>\n",
      "DatetimeIndex: 1203 entries, 2010-01-04 to 2017-11-09\n",
      "Data columns (total 1 columns):\n",
      "text    1203 non-null object\n",
      "dtypes: object(1)\n",
      "memory usage: 18.8+ KB\n"
     ]
    },
    {
     "data": {
      "text/plain": [
       "(None, (1203, 1))"
      ]
     },
     "execution_count": 6,
     "metadata": {},
     "output_type": "execute_result"
    }
   ],
   "source": [
    "df.info(), df.shape "
   ]
  },
  {
   "cell_type": "code",
   "execution_count": 7,
   "metadata": {
    "collapsed": false,
    "scrolled": true
   },
   "outputs": [
    {
     "name": "stdout",
     "output_type": "stream",
     "text": [
      "<class 'pandas.core.frame.DataFrame'>\n",
      "DatetimeIndex: 1988 entries, 2010-01-11 to 2017-12-08\n",
      "Data columns (total 5 columns):\n",
      "Open            1964 non-null float64\n",
      "ClosingPrice    1988 non-null float64\n",
      "DailyHigh       1986 non-null float64\n",
      "DailyLow        1986 non-null float64\n",
      "VolumePcs       1988 non-null int64\n",
      "dtypes: float64(4), int64(1)\n",
      "memory usage: 93.2 KB\n"
     ]
    },
    {
     "data": {
      "text/plain": [
       "(None, (1988, 5))"
      ]
     },
     "execution_count": 7,
     "metadata": {},
     "output_type": "execute_result"
    }
   ],
   "source": [
    "pr_all.info(), pr_all.shape "
   ]
  },
  {
   "cell_type": "markdown",
   "metadata": {},
   "source": [
    "### Часть 1. Вводная\n",
    "\n",
    "Проведите предобработку текстов: если считаете нужным, выполните токенизацию, приведение к нижнему регистру, лемматизацию и/или стемминг. Ответьте на следующие вопросы:\n",
    "* Есть ли корреляция между средней длинной текста за день и ценой закрытия?\n",
    "* Есть ли корреляция между количеством упоминаний Алексея Миллера  и ценой закрытия? Учтите разные варианты написания имени.\n",
    "* Упоминаний какого газопровода в статьях больше: \n",
    "    * \"северный поток\"\n",
    "    * \"турецкий поток\"?\n",
    "* О каких санкциях пишут в статьях?"
   ]
  },
  {
   "cell_type": "markdown",
   "metadata": {},
   "source": [
    "###### Токенизация и приведение к нижнему регистру"
   ]
  },
  {
   "cell_type": "code",
   "execution_count": 8,
   "metadata": {
    "collapsed": true
   },
   "outputs": [],
   "source": [
    "import re\n",
    "regex = re.compile(\"[А-Яа-я----]+\")\n",
    "\n",
    "def words_only(text, regex=regex):\n",
    "    return \" \".join(regex.findall(text))\n",
    "\n",
    "\n",
    "df.text = df.text.str.lower()\n",
    "df.text = df.text.apply(words_only)"
   ]
  },
  {
   "cell_type": "code",
   "execution_count": 9,
   "metadata": {
    "collapsed": false
   },
   "outputs": [
    {
     "data": {
      "text/plain": [
       "date\n",
       "2010-01-04                                                     \n",
       "2010-01-11    спорные вопросы по оплате за оказанные в перио...\n",
       "2010-01-19    газпром готов забирать весь объем азербайджанс...\n",
       "2010-01-28    консорциум во главе с российским оао газпром н...\n",
       "2010-02-01    газпром не исключает в г выпуска облигаций при...\n",
       "2010-02-03    переговоры оао газпром с оператором проекта са...\n",
       "2010-02-04    российский газовый монополист компания газпром...\n",
       "2010-02-15    российский газпром сообщил о планах увеличения...\n",
       "2010-03-10    подконтрольный газпрому нефтедобытчик газпром ...\n",
       "2010-03-22    газпром назвал участников конкурса по отбору о...\n",
       "Name: text, dtype: object"
      ]
     },
     "execution_count": 9,
     "metadata": {},
     "output_type": "execute_result"
    }
   ],
   "source": [
    "df.text.iloc[:10]"
   ]
  },
  {
   "cell_type": "markdown",
   "metadata": {},
   "source": [
    "###### Удаление стоп-слов"
   ]
  },
  {
   "cell_type": "code",
   "execution_count": 10,
   "metadata": {
    "collapsed": false
   },
   "outputs": [
    {
     "name": "stdout",
     "output_type": "stream",
     "text": [
      "['и', 'в', 'во', 'не', 'что', 'он', 'на', 'я', 'с', 'со', 'как', 'а', 'то', 'все', 'она', 'так', 'его', 'но', 'да', 'ты', 'к', 'у', 'же', 'вы', 'за', 'бы', 'по', 'только', 'ее', 'мне', 'было', 'вот', 'от', 'меня', 'еще', 'нет', 'о', 'из', 'ему', 'теперь', 'когда', 'даже', 'ну', 'вдруг', 'ли', 'если', 'уже', 'или', 'ни', 'быть', 'был', 'него', 'до', 'вас', 'нибудь', 'опять', 'уж', 'вам', 'ведь', 'там', 'потом', 'себя', 'ничего', 'ей', 'может', 'они', 'тут', 'где', 'есть', 'надо', 'ней', 'для', 'мы', 'тебя', 'их', 'чем', 'была', 'сам', 'чтоб', 'без', 'будто', 'чего', 'раз', 'тоже', 'себе', 'под', 'будет', 'ж', 'тогда', 'кто', 'этот', 'того', 'потому', 'этого', 'какой', 'совсем', 'ним', 'здесь', 'этом', 'один', 'почти', 'мой', 'тем', 'чтобы', 'нее', 'сейчас', 'были', 'куда', 'зачем', 'всех', 'никогда', 'можно', 'при', 'наконец', 'два', 'об', 'другой', 'хоть', 'после', 'над', 'больше', 'тот', 'через', 'эти', 'нас', 'про', 'всего', 'них', 'какая', 'много', 'разве', 'три', 'эту', 'моя', 'впрочем', 'хорошо', 'свою', 'этой', 'перед', 'иногда', 'лучше', 'чуть', 'том', 'нельзя', 'такой', 'им', 'более', 'всегда', 'конечно', 'всю', 'между', 'оао', 'руб', 'евро', 'долл', 'тыс', 'млн', 'млрд', 'также', 'это', 'наш', 'т', 'д', '-', '-', 'вице', 'эль', 'г', 'ъ']\n"
     ]
    }
   ],
   "source": [
    "from nltk.corpus import stopwords\n",
    "mystopwords = stopwords.words('russian') + ['оао','руб', 'евро', 'долл', 'тыс', 'млн', 'млрд', 'также',\n",
    "                                            'это', 'наш', 'т', 'д', '-', '-', 'вице', 'эль', 'г', 'ъ']\n",
    "\n",
    "print(mystopwords)\n",
    "def  remove_stopwords(text, mystopwords = mystopwords):\n",
    "    try:\n",
    "        return \" \".join([token for token in text.split() if not token in mystopwords])\n",
    "    except:\n",
    "        return \"\"\n",
    "df.text = df.text.apply(remove_stopwords) "
   ]
  },
  {
   "cell_type": "markdown",
   "metadata": {},
   "source": [
    "###### Лемматизация"
   ]
  },
  {
   "cell_type": "code",
   "execution_count": 11,
   "metadata": {
    "collapsed": false
   },
   "outputs": [
    {
     "name": "stdout",
     "output_type": "stream",
     "text": [
      "Wall time: 27min 17s\n"
     ]
    }
   ],
   "source": [
    "%%time \n",
    "from pymystem3 import Mystem\n",
    "\n",
    "m = Mystem()\n",
    "def lemmatize(text, mystem=m):\n",
    "    try:\n",
    "        return \"\".join(m.lemmatize(text)).strip()  \n",
    "    except:\n",
    "        return \" \"\n",
    "\n",
    "df.text = df.text.apply(lemmatize)"
   ]
  },
  {
   "cell_type": "code",
   "execution_count": 12,
   "metadata": {
    "collapsed": false
   },
   "outputs": [
    {
     "data": {
      "text/plain": [
       "date\n",
       "2010-01-04                                                     \n",
       "2010-01-11    спорный вопрос оплата оказывать период гг услу...\n",
       "2010-01-19    газпром готовый забирать весь объем азербайджа...\n",
       "2010-01-28    консорциум глава российский газпром нефть четв...\n",
       "2010-02-01    газпром исключать выпуск облигация примерно по...\n",
       "2010-02-03    переговоры газпром оператор проект сахалин- ко...\n",
       "2010-02-04    российский газовый монополист компания газпром...\n",
       "2010-02-15    российский газпром сообщать план увеличение до...\n",
       "2010-03-10    подконтрольный газпром нефтедобытчик газпром н...\n",
       "2010-03-22    газпром называть участник конкурс отбор органи...\n",
       "2010-03-26    глава газпром новатэк леонид михельсон алексей...\n",
       "2010-03-30    итог чистый прибыль газпром нефть рсба выраста...\n",
       "2010-03-31    сегодня пройти годовой собрание акционер белор...\n",
       "2010-04-07    украина полностью расплачиваться мартовский по...\n",
       "2010-04-12    крупный мир производитель газ газпром договари...\n",
       "2010-04-19    министр природный ресурс рф юрий трутнеть расс...\n",
       "2010-04-20    группа видео интернешнл смочь увеличивать прод...\n",
       "2010-04-22    газпром нефть намерен создавать республика алт...\n",
       "2010-04-26    российский власть готовый отказываться отзыв т...\n",
       "2010-04-27    российский газпром итальянский уступать францу...\n",
       "2010-05-05    газпром-медиа создавать один площадка интернет...\n",
       "2010-05-19    газпромбанк скупать акция свой топ-менеджер по...\n",
       "2010-05-25    российский газоэкспортный монополия газпром по...\n",
       "2010-05-26    соглашение вхождение французский проект строит...\n",
       "2010-05-28    российский концерн газпром украинский госкомпа...\n",
       "2010-06-07    газпром видеть обозримый будущее возможность с...\n",
       "2010-06-09    газпром готовый приступать практический реализ...\n",
       "2010-06-11    французский нефтяной компания партнер российск...\n",
       "2010-06-16    российский компания газпром направлять адрес к...\n",
       "2010-06-17    первичный публичный размещение акция российски...\n",
       "                                    ...                        \n",
       "2017-07-18    российский фонд прямой инвестиция рфпи владеть...\n",
       "2017-07-24    считать положительный разрешение ситуация испо...\n",
       "2017-07-26    татнефть хотеть потеснить крупный нефтекомпани...\n",
       "2017-07-27    статья опубликовывать один ресурс спортивный с...\n",
       "2017-07-28    спустя полгода газпром снова получать возможно...\n",
       "2017-08-03    россия оставаться надежный гарант энергобезопа...\n",
       "2017-08-07    оглядка успех турецкий телесага великолепный в...\n",
       "2017-08-10    газпром отрапортовать -процентный загрузка газ...\n",
       "2017-08-14    становиться известно газпром нефть возникать с...\n",
       "2017-08-16    градообразующий предприятие инта ао интауголь ...\n",
       "2017-08-17    газпром уверенно идти новый абсолютный экспорт...\n",
       "2017-08-21    уход пост канцлер фрг ангел меркель собираться...\n",
       "2017-08-31    выручка газпром-медиа первый полугодие расти в...\n",
       "2017-09-04    роснефть первый крупный российский госкомпания...\n",
       "2017-09-07    помощник президент россия андрей белоусов заяв...\n",
       "2017-09-08    газпром нафтогаз ожидать смочь договариваться ...\n",
       "2017-09-12    интерес традиционный тепловой генерация возобн...\n",
       "2017-09-13    сегодня банк россия опубликовывать свой сайт н...\n",
       "2017-09-18    газпром впервые год вернуть роль ключевой пост...\n",
       "2017-09-22    газпром новатэк мочь принимать участие комплек...\n",
       "2017-09-29    становиться известно конкурент начинать разбир...\n",
       "2017-10-04    спутниковый оператор нтв-плюс последний время ...\n",
       "2017-10-05    газпром нефть пробуривать первый скважина аяшс...\n",
       "2017-10-13    газпром подписывать контракт словения поставка...\n",
       "2017-10-20    российский прокатчик второй год приходиться ра...\n",
       "2017-10-23    новатэк который пять год собираться запускать ...\n",
       "2017-10-30    становиться известно известный рынок риск-мене...\n",
       "2017-11-01    новый редакция американский санкция ставить уг...\n",
       "2017-11-08    предполагать газпром воспользоваться жалоба ин...\n",
       "2017-11-09    компания рассчитывать решение газовый спор укр...\n",
       "Name: text, Length: 1203, dtype: object"
      ]
     },
     "execution_count": 12,
     "metadata": {},
     "output_type": "execute_result"
    }
   ],
   "source": [
    "df.text"
   ]
  },
  {
   "cell_type": "markdown",
   "metadata": {},
   "source": [
    "###### Проверяем, есть ли корреляция между длиной текстов и ценой закрытия, графически и численно"
   ]
  },
  {
   "cell_type": "code",
   "execution_count": 13,
   "metadata": {
    "collapsed": true
   },
   "outputs": [],
   "source": [
    "df['len_data'] = df.text.apply(len)"
   ]
  },
  {
   "cell_type": "code",
   "execution_count": 14,
   "metadata": {
    "collapsed": false
   },
   "outputs": [],
   "source": [
    "intersection = pr_all.join(df, how='inner')"
   ]
  },
  {
   "cell_type": "code",
   "execution_count": 15,
   "metadata": {
    "collapsed": false
   },
   "outputs": [
    {
     "data": {
      "text/plain": [
       "<matplotlib.collections.PathCollection at 0x1b5b2be0>"
      ]
     },
     "execution_count": 15,
     "metadata": {},
     "output_type": "execute_result"
    },
    {
     "data": {
      "image/png": "[encoded data removed]",
      "text/plain": [
       "<matplotlib.figure.Figure at 0x1b54d6a0>"
      ]
     },
     "metadata": {},
     "output_type": "display_data"
    }
   ],
   "source": [
    "plt.scatter(x=intersection.len_data, y=intersection.ClosingPrice, alpha=0.8, s=15.2)"
   ]
  },
  {
   "cell_type": "code",
   "execution_count": 16,
   "metadata": {
    "collapsed": false
   },
   "outputs": [
    {
     "name": "stdout",
     "output_type": "stream",
     "text": [
      "{'pearson': 0.012273956759408979, 'spearman': -0.008241392638395996, 'kendall': -0.0060826355701091303}\n"
     ]
    }
   ],
   "source": [
    "from scipy import stats\n",
    "x = intersection.len_data\n",
    "y = intersection.ClosingPrice\n",
    "corr = {}\n",
    "corr['pearson'], _ = stats.pearsonr(x,y)\n",
    "corr['spearman'], _ = stats.spearmanr(x,y)\n",
    "corr['kendall'], _ = stats.kendalltau(x,y)\n",
    "\n",
    "print(corr)"
   ]
  },
  {
   "cell_type": "code",
   "execution_count": 17,
   "metadata": {
    "collapsed": true
   },
   "outputs": [],
   "source": [
    "# Можно сделать вывод о том что корреляция не наблюдается"
   ]
  },
  {
   "cell_type": "markdown",
   "metadata": {},
   "source": [
    "###### Проверяем, есть ли корреляция между количеством упоминаний Алексея Миллера и ценой закрытия"
   ]
  },
  {
   "cell_type": "code",
   "execution_count": 18,
   "metadata": {
    "collapsed": true,
    "scrolled": true
   },
   "outputs": [],
   "source": [
    "prog = re.compile(r'миллер')\n",
    "df['Miller'] = df.text.apply(prog.findall)\n",
    "df['Miller_count'] = df.Miller.apply(len)"
   ]
  },
  {
   "cell_type": "code",
   "execution_count": 19,
   "metadata": {
    "collapsed": false
   },
   "outputs": [],
   "source": [
    "intersection = pr_all.join(df, how='inner')"
   ]
  },
  {
   "cell_type": "code",
   "execution_count": 20,
   "metadata": {
    "collapsed": false
   },
   "outputs": [
    {
     "name": "stdout",
     "output_type": "stream",
     "text": [
      "{'pearson': 0.010635076467578013, 'spearman': 0.023244353525710616, 'kendall': 0.018954081964142402}\n"
     ]
    }
   ],
   "source": [
    "x = intersection.Miller_count\n",
    "y = intersection.ClosingPrice\n",
    "corr = {}\n",
    "corr['pearson'], _ = stats.pearsonr(x,y)\n",
    "corr['spearman'], _ = stats.spearmanr(x,y)\n",
    "corr['kendall'], _ = stats.kendalltau(x,y)\n",
    "\n",
    "print(corr)"
   ]
  },
  {
   "cell_type": "code",
   "execution_count": null,
   "metadata": {
    "collapsed": true
   },
   "outputs": [],
   "source": [
    "# Можно сделать вывод о том что корреляция не наблюдается"
   ]
  },
  {
   "cell_type": "markdown",
   "metadata": {},
   "source": [
    "###### Проверяем упоминаний какого газопровода в статьях больше: \n",
    "    * \"северный поток\"\n",
    "    * \"турецкий поток\""
   ]
  },
  {
   "cell_type": "code",
   "execution_count": 21,
   "metadata": {
    "collapsed": false
   },
   "outputs": [
    {
     "data": {
      "text/plain": [
       "(15, 39)"
      ]
     },
     "execution_count": 21,
     "metadata": {},
     "output_type": "execute_result"
    }
   ],
   "source": [
    "prog = re.compile(r'северный поток')\n",
    "df['north_stream'] = df.text.apply(prog.findall)\n",
    "df['north_stream_count'] = df.north_stream.apply(len)\n",
    "\n",
    "prog = re.compile(r'турецкий поток')\n",
    "df['turkish_stream'] = df.text.apply(prog.findall)\n",
    "df['turkish_stream_count'] = df.turkish_stream.apply(len)\n",
    "\n",
    "north_stream_mentioned = df.north_stream_count.sum()\n",
    "turkish_stream_mentioned = df.turkish_stream_count.sum()\n",
    "\n",
    "north_stream_mentioned, turkish_stream_mentioned"
   ]
  },
  {
   "cell_type": "code",
   "execution_count": 22,
   "metadata": {
    "collapsed": true
   },
   "outputs": [],
   "source": [
    "# Можно сделать вывод о том число упоминаний проекта Турецкий поток больше"
   ]
  },
  {
   "cell_type": "markdown",
   "metadata": {},
   "source": [
    "## Часть 2. Классификационная\n",
    "Вам предстоит решить следующую задачу: по текстам новостей за день определить, вырастет или понизится цена закрытия.\n",
    "Для этого:\n",
    "* бинаризуйте признак \"цена закрытия\":  новый признак ClosingPrice_bin равен 1, если по сравнению со вчера цена не упала, и 0 – в обратном случаея;\n",
    "* составьте бучающее и тестовое множество: данные до начала 2016 года используются для обучения, данные с 2016 года и позже – для тестирования.\n",
    "\n",
    "Таким образом, в каждлый момент времени мы знаем: \n",
    "* ClosingPrice_bin – бинарый целевой признак\n",
    "* слова из статей, опубликованных в этот день – объясняющие признаки\n",
    "\n",
    "В этой части задания вам нужно сделать baseline алгоритм и попытаться его улучшить в следующей части. \n",
    "\n",
    "Используйте любой известный вам алгоритм классификации текстов для того, Используйте $tf-idf$ преобразование, сингулярное разложение, нормировку признакого пространства и любые другие техники обработки данных, которые вы считаете нужным. Используйте accuracy и F-measure для оценки качества классификации. Покажите, как  $tf-idf$ преобразование или сингулярное разложение или любая другая использованная вами техника влияет на качество классификации.\n",
    "Если у выбранного вами алгоритма есть гиперпараметры (например, $\\alpha$ в преобразовании Лапласа для метода наивного Байеса), покажите, как изменение гиперпараметра влияет на качество классификации."
   ]
  },
  {
   "cell_type": "markdown",
   "metadata": {},
   "source": [
    "###### Бинаризируем признак изменения цены закрытия и разбиваем выборку на обучающую и тестовую"
   ]
  },
  {
   "cell_type": "code",
   "execution_count": 23,
   "metadata": {
    "collapsed": false
   },
   "outputs": [],
   "source": [
    "p_data = pr_all[['ClosingPrice']]"
   ]
  },
  {
   "cell_type": "code",
   "execution_count": 24,
   "metadata": {
    "collapsed": false
   },
   "outputs": [
    {
     "data": {
      "text/html": [
       "<div>\n",
       "<style scoped>\n",
       "    .dataframe tbody tr th:only-of-type {\n",
       "        vertical-align: middle;\n",
       "    }\n",
       "\n",
       "    .dataframe tbody tr th {\n",
       "        vertical-align: top;\n",
       "    }\n",
       "\n",
       "    .dataframe thead th {\n",
       "        text-align: right;\n",
       "    }\n",
       "</style>\n",
       "<table border=\"1\" class=\"dataframe\">\n",
       "  <thead>\n",
       "    <tr style=\"text-align: right;\">\n",
       "      <th></th>\n",
       "      <th>ClosingPrice</th>\n",
       "    </tr>\n",
       "    <tr>\n",
       "      <th>Date</th>\n",
       "      <th></th>\n",
       "    </tr>\n",
       "  </thead>\n",
       "  <tbody>\n",
       "    <tr>\n",
       "      <th>2010-01-11</th>\n",
       "      <td>194.5</td>\n",
       "    </tr>\n",
       "    <tr>\n",
       "      <th>2010-01-12</th>\n",
       "      <td>191.8</td>\n",
       "    </tr>\n",
       "    <tr>\n",
       "      <th>2010-01-13</th>\n",
       "      <td>189.3</td>\n",
       "    </tr>\n",
       "  </tbody>\n",
       "</table>\n",
       "</div>"
      ],
      "text/plain": [
       "            ClosingPrice\n",
       "Date                    \n",
       "2010-01-11         194.5\n",
       "2010-01-12         191.8\n",
       "2010-01-13         189.3"
      ]
     },
     "execution_count": 24,
     "metadata": {},
     "output_type": "execute_result"
    }
   ],
   "source": [
    "p_data.head(3)"
   ]
  },
  {
   "cell_type": "code",
   "execution_count": 25,
   "metadata": {
    "collapsed": false
   },
   "outputs": [
    {
     "data": {
      "text/html": [
       "<div>\n",
       "<style scoped>\n",
       "    .dataframe tbody tr th:only-of-type {\n",
       "        vertical-align: middle;\n",
       "    }\n",
       "\n",
       "    .dataframe tbody tr th {\n",
       "        vertical-align: top;\n",
       "    }\n",
       "\n",
       "    .dataframe thead th {\n",
       "        text-align: right;\n",
       "    }\n",
       "</style>\n",
       "<table border=\"1\" class=\"dataframe\">\n",
       "  <thead>\n",
       "    <tr style=\"text-align: right;\">\n",
       "      <th></th>\n",
       "      <th>ClosingPrice</th>\n",
       "    </tr>\n",
       "    <tr>\n",
       "      <th>Date</th>\n",
       "      <th></th>\n",
       "    </tr>\n",
       "  </thead>\n",
       "  <tbody>\n",
       "    <tr>\n",
       "      <th>2010-01-11</th>\n",
       "      <td>NaN</td>\n",
       "    </tr>\n",
       "    <tr>\n",
       "      <th>2010-01-12</th>\n",
       "      <td>0.986118</td>\n",
       "    </tr>\n",
       "    <tr>\n",
       "      <th>2010-01-13</th>\n",
       "      <td>0.986966</td>\n",
       "    </tr>\n",
       "  </tbody>\n",
       "</table>\n",
       "</div>"
      ],
      "text/plain": [
       "            ClosingPrice\n",
       "Date                    \n",
       "2010-01-11           NaN\n",
       "2010-01-12      0.986118\n",
       "2010-01-13      0.986966"
      ]
     },
     "execution_count": 25,
     "metadata": {},
     "output_type": "execute_result"
    }
   ],
   "source": [
    "change_data = pd.DataFrame(p_data.ClosingPrice / p_data.ClosingPrice.shift(1))\n",
    "change_data.head(3)"
   ]
  },
  {
   "cell_type": "code",
   "execution_count": 26,
   "metadata": {
    "collapsed": false,
    "scrolled": true
   },
   "outputs": [
    {
     "data": {
      "text/html": [
       "<div>\n",
       "<style scoped>\n",
       "    .dataframe tbody tr th:only-of-type {\n",
       "        vertical-align: middle;\n",
       "    }\n",
       "\n",
       "    .dataframe tbody tr th {\n",
       "        vertical-align: top;\n",
       "    }\n",
       "\n",
       "    .dataframe thead th {\n",
       "        text-align: right;\n",
       "    }\n",
       "</style>\n",
       "<table border=\"1\" class=\"dataframe\">\n",
       "  <thead>\n",
       "    <tr style=\"text-align: right;\">\n",
       "      <th></th>\n",
       "      <th>ClosingPrice</th>\n",
       "      <th>Change</th>\n",
       "    </tr>\n",
       "    <tr>\n",
       "      <th>Date</th>\n",
       "      <th></th>\n",
       "      <th></th>\n",
       "    </tr>\n",
       "  </thead>\n",
       "  <tbody>\n",
       "    <tr>\n",
       "      <th>2010-01-11</th>\n",
       "      <td>194.50</td>\n",
       "      <td>NaN</td>\n",
       "    </tr>\n",
       "    <tr>\n",
       "      <th>2010-01-12</th>\n",
       "      <td>191.80</td>\n",
       "      <td>0.986118</td>\n",
       "    </tr>\n",
       "    <tr>\n",
       "      <th>2010-01-13</th>\n",
       "      <td>189.30</td>\n",
       "      <td>0.986966</td>\n",
       "    </tr>\n",
       "    <tr>\n",
       "      <th>2010-01-14</th>\n",
       "      <td>190.83</td>\n",
       "      <td>1.008082</td>\n",
       "    </tr>\n",
       "  </tbody>\n",
       "</table>\n",
       "</div>"
      ],
      "text/plain": [
       "            ClosingPrice    Change\n",
       "Date                              \n",
       "2010-01-11        194.50       NaN\n",
       "2010-01-12        191.80  0.986118\n",
       "2010-01-13        189.30  0.986966\n",
       "2010-01-14        190.83  1.008082"
      ]
     },
     "execution_count": 26,
     "metadata": {},
     "output_type": "execute_result"
    }
   ],
   "source": [
    "change_data.rename(columns={'ClosingPrice' : 'Change'}, inplace=True)\n",
    "p_data = pd.concat([p_data, change_data], axis = 1)\n",
    "p_data.head(4)"
   ]
  },
  {
   "cell_type": "code",
   "execution_count": 27,
   "metadata": {
    "collapsed": true
   },
   "outputs": [],
   "source": [
    "p_data.dropna(inplace=True)"
   ]
  },
  {
   "cell_type": "code",
   "execution_count": 29,
   "metadata": {
    "collapsed": false
   },
   "outputs": [
    {
     "data": {
      "text/html": [
       "<div>\n",
       "<style scoped>\n",
       "    .dataframe tbody tr th:only-of-type {\n",
       "        vertical-align: middle;\n",
       "    }\n",
       "\n",
       "    .dataframe tbody tr th {\n",
       "        vertical-align: top;\n",
       "    }\n",
       "\n",
       "    .dataframe thead th {\n",
       "        text-align: right;\n",
       "    }\n",
       "</style>\n",
       "<table border=\"1\" class=\"dataframe\">\n",
       "  <thead>\n",
       "    <tr style=\"text-align: right;\">\n",
       "      <th></th>\n",
       "      <th>ClosingPrice</th>\n",
       "      <th>Change</th>\n",
       "    </tr>\n",
       "    <tr>\n",
       "      <th>Date</th>\n",
       "      <th></th>\n",
       "      <th></th>\n",
       "    </tr>\n",
       "  </thead>\n",
       "  <tbody>\n",
       "    <tr>\n",
       "      <th>2010-01-12</th>\n",
       "      <td>191.80</td>\n",
       "      <td>0.986118</td>\n",
       "    </tr>\n",
       "    <tr>\n",
       "      <th>2010-01-13</th>\n",
       "      <td>189.30</td>\n",
       "      <td>0.986966</td>\n",
       "    </tr>\n",
       "    <tr>\n",
       "      <th>2010-01-14</th>\n",
       "      <td>190.83</td>\n",
       "      <td>1.008082</td>\n",
       "    </tr>\n",
       "    <tr>\n",
       "      <th>2010-01-15</th>\n",
       "      <td>187.86</td>\n",
       "      <td>0.984436</td>\n",
       "    </tr>\n",
       "  </tbody>\n",
       "</table>\n",
       "</div>"
      ],
      "text/plain": [
       "            ClosingPrice    Change\n",
       "Date                              \n",
       "2010-01-12        191.80  0.986118\n",
       "2010-01-13        189.30  0.986966\n",
       "2010-01-14        190.83  1.008082\n",
       "2010-01-15        187.86  0.984436"
      ]
     },
     "execution_count": 29,
     "metadata": {},
     "output_type": "execute_result"
    }
   ],
   "source": [
    "p_data.head(4)"
   ]
  },
  {
   "cell_type": "code",
   "execution_count": 30,
   "metadata": {
    "collapsed": false,
    "scrolled": true
   },
   "outputs": [
    {
     "data": {
      "text/html": [
       "<div>\n",
       "<style scoped>\n",
       "    .dataframe tbody tr th:only-of-type {\n",
       "        vertical-align: middle;\n",
       "    }\n",
       "\n",
       "    .dataframe tbody tr th {\n",
       "        vertical-align: top;\n",
       "    }\n",
       "\n",
       "    .dataframe thead th {\n",
       "        text-align: right;\n",
       "    }\n",
       "</style>\n",
       "<table border=\"1\" class=\"dataframe\">\n",
       "  <thead>\n",
       "    <tr style=\"text-align: right;\">\n",
       "      <th></th>\n",
       "      <th>ClosingPrice</th>\n",
       "      <th>Change</th>\n",
       "      <th>ClosingPrice_bin</th>\n",
       "    </tr>\n",
       "    <tr>\n",
       "      <th>Date</th>\n",
       "      <th></th>\n",
       "      <th></th>\n",
       "      <th></th>\n",
       "    </tr>\n",
       "  </thead>\n",
       "  <tbody>\n",
       "    <tr>\n",
       "      <th>2010-01-12</th>\n",
       "      <td>191.80</td>\n",
       "      <td>0.986118</td>\n",
       "      <td>0</td>\n",
       "    </tr>\n",
       "    <tr>\n",
       "      <th>2010-01-13</th>\n",
       "      <td>189.30</td>\n",
       "      <td>0.986966</td>\n",
       "      <td>0</td>\n",
       "    </tr>\n",
       "    <tr>\n",
       "      <th>2010-01-14</th>\n",
       "      <td>190.83</td>\n",
       "      <td>1.008082</td>\n",
       "      <td>1</td>\n",
       "    </tr>\n",
       "  </tbody>\n",
       "</table>\n",
       "</div>"
      ],
      "text/plain": [
       "            ClosingPrice    Change  ClosingPrice_bin\n",
       "Date                                                \n",
       "2010-01-12        191.80  0.986118                 0\n",
       "2010-01-13        189.30  0.986966                 0\n",
       "2010-01-14        190.83  1.008082                 1"
      ]
     },
     "execution_count": 30,
     "metadata": {},
     "output_type": "execute_result"
    }
   ],
   "source": [
    "p_data['ClosingPrice_bin'] = (p_data.Change // 1).astype(dtype='int')\n",
    "p_data.head(3)\n"
   ]
  },
  {
   "cell_type": "code",
   "execution_count": 32,
   "metadata": {
    "collapsed": false
   },
   "outputs": [],
   "source": [
    "df = df[['text']]"
   ]
  },
  {
   "cell_type": "code",
   "execution_count": 33,
   "metadata": {
    "collapsed": false
   },
   "outputs": [],
   "source": [
    "intersection = p_data.join(df, how='inner')"
   ]
  },
  {
   "cell_type": "code",
   "execution_count": 42,
   "metadata": {
    "collapsed": false,
    "scrolled": true
   },
   "outputs": [
    {
     "data": {
      "text/html": [
       "<div>\n",
       "<style scoped>\n",
       "    .dataframe tbody tr th:only-of-type {\n",
       "        vertical-align: middle;\n",
       "    }\n",
       "\n",
       "    .dataframe tbody tr th {\n",
       "        vertical-align: top;\n",
       "    }\n",
       "\n",
       "    .dataframe thead th {\n",
       "        text-align: right;\n",
       "    }\n",
       "</style>\n",
       "<table border=\"1\" class=\"dataframe\">\n",
       "  <thead>\n",
       "    <tr style=\"text-align: right;\">\n",
       "      <th></th>\n",
       "      <th>ClosingPrice</th>\n",
       "      <th>Change</th>\n",
       "      <th>ClosingPrice_bin</th>\n",
       "      <th>text</th>\n",
       "    </tr>\n",
       "  </thead>\n",
       "  <tbody>\n",
       "    <tr>\n",
       "      <th>2010-01-19</th>\n",
       "      <td>189.76</td>\n",
       "      <td>0.996639</td>\n",
       "      <td>0</td>\n",
       "      <td>газпром готовый забирать весь объем азербайджа...</td>\n",
       "    </tr>\n",
       "    <tr>\n",
       "      <th>2010-01-28</th>\n",
       "      <td>182.30</td>\n",
       "      <td>1.001593</td>\n",
       "      <td>1</td>\n",
       "      <td>консорциум глава российский газпром нефть четв...</td>\n",
       "    </tr>\n",
       "  </tbody>\n",
       "</table>\n",
       "</div>"
      ],
      "text/plain": [
       "            ClosingPrice    Change  ClosingPrice_bin  \\\n",
       "2010-01-19        189.76  0.996639                 0   \n",
       "2010-01-28        182.30  1.001593                 1   \n",
       "\n",
       "                                                         text  \n",
       "2010-01-19  газпром готовый забирать весь объем азербайджа...  \n",
       "2010-01-28  консорциум глава российский газпром нефть четв...  "
      ]
     },
     "execution_count": 42,
     "metadata": {},
     "output_type": "execute_result"
    }
   ],
   "source": [
    "intersection.head(2)"
   ]
  },
  {
   "cell_type": "code",
   "execution_count": 35,
   "metadata": {
    "collapsed": false,
    "scrolled": true
   },
   "outputs": [
    {
     "data": {
      "text/plain": [
       "0    0.51209\n",
       "1    0.48791\n",
       "Name: ClosingPrice_bin, dtype: float64"
      ]
     },
     "execution_count": 35,
     "metadata": {},
     "output_type": "execute_result"
    }
   ],
   "source": [
    "intersection.ClosingPrice_bin.value_counts(normalize=True)"
   ]
  },
  {
   "cell_type": "code",
   "execution_count": 40,
   "metadata": {
    "collapsed": false
   },
   "outputs": [
    {
     "data": {
      "text/plain": [
       "<matplotlib.axes._subplots.AxesSubplot at 0x1f10b160>"
      ]
     },
     "execution_count": 40,
     "metadata": {},
     "output_type": "execute_result"
    },
    {
     "data": {
      "image/png": "[encoded data removed]",
      "text/plain": [
       "<matplotlib.figure.Figure at 0x1c0aa6d8>"
      ]
     },
     "metadata": {},
     "output_type": "display_data"
    }
   ],
   "source": [
    "intersection.ClosingPrice.plot()"
   ]
  },
  {
   "cell_type": "code",
   "execution_count": 54,
   "metadata": {
    "collapsed": false
   },
   "outputs": [],
   "source": [
    "data_train = intersection[:'2015']\n",
    "data_test = intersection['2016':]"
   ]
  },
  {
   "cell_type": "code",
   "execution_count": 59,
   "metadata": {
    "collapsed": true
   },
   "outputs": [],
   "source": [
    "X_train = data_train['text']\n",
    "y_train = data_train['ClosingPrice_bin']\n",
    "X_test = data_test['text']\n",
    "y_test = data_test['ClosingPrice_bin']"
   ]
  },
  {
   "cell_type": "markdown",
   "metadata": {},
   "source": [
    "###### Используем CountVectorizer и строим базовые классификаторы с сеточным подбором гиперпараметров, проверяем возможность улучшения с помощью tf-idf преобразования и снижения размерности"
   ]
  },
  {
   "cell_type": "code",
   "execution_count": 631,
   "metadata": {
    "collapsed": false
   },
   "outputs": [],
   "source": [
    "import random\n",
    "random.seed(2904)\n",
    "from sklearn.feature_extraction.text import *\n",
    "from sklearn.metrics import *\n",
    "from sklearn.pipeline import Pipeline\n",
    "\n",
    "from sklearn.feature_extraction.text import CountVectorizer\n",
    "from sklearn.naive_bayes import MultinomialNB\n",
    "from sklearn.linear_model import SGDClassifier, LogisticRegression\n",
    "from sklearn.ensemble import RandomForestClassifier\n",
    "from sklearn.svm import SVC\n",
    "from sklearn.decomposition import TruncatedSVD"
   ]
  },
  {
   "cell_type": "code",
   "execution_count": 336,
   "metadata": {
    "collapsed": false
   },
   "outputs": [
    {
     "data": {
      "text/plain": [
       "(900, 154790)"
      ]
     },
     "execution_count": 336,
     "metadata": {},
     "output_type": "execute_result"
    }
   ],
   "source": [
    "X_train_list = X_train.tolist()\n",
    "vect = CountVectorizer(ngram_range=(1,4))\n",
    "X_train_counts = vect.fit_transform(X_train_list)\n",
    "X_train_counts.shape"
   ]
  },
  {
   "cell_type": "code",
   "execution_count": 337,
   "metadata": {
    "collapsed": false
   },
   "outputs": [
    {
     "data": {
      "text/plain": [
       "(258, 154790)"
      ]
     },
     "execution_count": 337,
     "metadata": {},
     "output_type": "execute_result"
    }
   ],
   "source": [
    "X_test_list = X_test.tolist()\n",
    "X_test_counts = vect.transform(X_test_list)\n",
    "X_test_counts.shape"
   ]
  },
  {
   "cell_type": "code",
   "execution_count": 534,
   "metadata": {
    "collapsed": false
   },
   "outputs": [],
   "source": [
    "classifier = LogisticRegression(random_state=2904)"
   ]
  },
  {
   "cell_type": "code",
   "execution_count": 535,
   "metadata": {
    "collapsed": false
   },
   "outputs": [
    {
     "data": {
      "text/plain": [
       "<bound method BaseEstimator.get_params of LogisticRegression(C=1.0, class_weight=None, dual=False, fit_intercept=True,\n",
       "          intercept_scaling=1, max_iter=100, multi_class='ovr', n_jobs=1,\n",
       "          penalty='l2', random_state=2904, solver='liblinear', tol=0.0001,\n",
       "          verbose=0, warm_start=False)>"
      ]
     },
     "execution_count": 535,
     "metadata": {},
     "output_type": "execute_result"
    }
   ],
   "source": [
    "classifier.get_params"
   ]
  },
  {
   "cell_type": "code",
   "execution_count": 536,
   "metadata": {
    "collapsed": false
   },
   "outputs": [],
   "source": [
    "params = {'C': [.1, .2, .3, .4, .5, 1]}"
   ]
  },
  {
   "cell_type": "code",
   "execution_count": 537,
   "metadata": {
    "collapsed": true
   },
   "outputs": [],
   "source": [
    "clf = GridSearchCV(estimator=classifier, param_grid=params, scoring='accuracy', verbose=5)"
   ]
  },
  {
   "cell_type": "code",
   "execution_count": 538,
   "metadata": {
    "collapsed": false
   },
   "outputs": [
    {
     "name": "stdout",
     "output_type": "stream",
     "text": [
      "Fitting 3 folds for each of 6 candidates, totalling 18 fits\n",
      "[CV] C=0.1 ...........................................................\n",
      "[CV] ................................ C=0.1, score=0.48, total=   0.1s\n"
     ]
    },
    {
     "name": "stderr",
     "output_type": "stream",
     "text": [
      "[Parallel(n_jobs=1)]: Done   1 out of   1 | elapsed:    0.2s remaining:    0.0s\n"
     ]
    },
    {
     "name": "stdout",
     "output_type": "stream",
     "text": [
      "[CV] C=0.1 ...........................................................\n",
      "[CV] ................................ C=0.1, score=0.51, total=   0.1s\n"
     ]
    },
    {
     "name": "stderr",
     "output_type": "stream",
     "text": [
      "[Parallel(n_jobs=1)]: Done   2 out of   2 | elapsed:    0.4s remaining:    0.0s\n"
     ]
    },
    {
     "name": "stdout",
     "output_type": "stream",
     "text": [
      "[CV] C=0.1 ...........................................................\n",
      "[CV] ................. C=0.1, score=0.49333333333333335, total=   0.1s\n"
     ]
    },
    {
     "name": "stderr",
     "output_type": "stream",
     "text": [
      "[Parallel(n_jobs=1)]: Done   3 out of   3 | elapsed:    0.7s remaining:    0.0s\n"
     ]
    },
    {
     "name": "stdout",
     "output_type": "stream",
     "text": [
      "[CV] C=0.2 ...........................................................\n",
      "[CV] ................. C=0.2, score=0.47333333333333333, total=   0.1s\n"
     ]
    },
    {
     "name": "stderr",
     "output_type": "stream",
     "text": [
      "[Parallel(n_jobs=1)]: Done   4 out of   4 | elapsed:    0.9s remaining:    0.0s\n"
     ]
    },
    {
     "name": "stdout",
     "output_type": "stream",
     "text": [
      "[CV] C=0.2 ...........................................................\n",
      "[CV] .................. C=0.2, score=0.5033333333333333, total=   0.1s\n",
      "[CV] C=0.2 ...........................................................\n",
      "[CV] .................. C=0.2, score=0.4866666666666667, total=   0.1s\n",
      "[CV] C=0.3 ...........................................................\n",
      "[CV] ................................ C=0.3, score=0.47, total=   0.2s\n",
      "[CV] C=0.3 ...........................................................\n",
      "[CV] .................. C=0.3, score=0.5033333333333333, total=   0.2s\n",
      "[CV] C=0.3 ...........................................................\n",
      "[CV] .................. C=0.3, score=0.4866666666666667, total=   0.2s\n",
      "[CV] C=0.4 ...........................................................\n",
      "[CV] ................................ C=0.4, score=0.47, total=   0.2s\n",
      "[CV] C=0.4 ...........................................................\n",
      "[CV] .................. C=0.4, score=0.5033333333333333, total=   0.2s\n",
      "[CV] C=0.4 ...........................................................\n",
      "[CV] ................................ C=0.4, score=0.49, total=   0.2s\n",
      "[CV] C=0.5 ...........................................................\n",
      "[CV] .................. C=0.5, score=0.4633333333333333, total=   0.2s\n",
      "[CV] C=0.5 ...........................................................\n",
      "[CV] ................................. C=0.5, score=0.5, total=   0.2s\n",
      "[CV] C=0.5 ...........................................................\n",
      "[CV] ................................ C=0.5, score=0.49, total=   0.2s\n",
      "[CV] C=1 .............................................................\n",
      "[CV] .................... C=1, score=0.4633333333333333, total=   0.2s\n",
      "[CV] C=1 .............................................................\n",
      "[CV] .................... C=1, score=0.5066666666666667, total=   0.2s\n",
      "[CV] C=1 .............................................................\n",
      "[CV] .................................. C=1, score=0.48, total=   0.2s\n"
     ]
    },
    {
     "name": "stderr",
     "output_type": "stream",
     "text": [
      "[Parallel(n_jobs=1)]: Done  18 out of  18 | elapsed:    4.9s finished\n"
     ]
    },
    {
     "name": "stdout",
     "output_type": "stream",
     "text": [
      "Wall time: 5.33 s\n"
     ]
    },
    {
     "data": {
      "text/plain": [
       "GridSearchCV(cv=None, error_score='raise',\n",
       "       estimator=LogisticRegression(C=1.0, class_weight=None, dual=False, fit_intercept=True,\n",
       "          intercept_scaling=1, max_iter=100, multi_class='ovr', n_jobs=1,\n",
       "          penalty='l2', random_state=2904, solver='liblinear', tol=0.0001,\n",
       "          verbose=0, warm_start=False),\n",
       "       fit_params=None, iid=True, n_jobs=1,\n",
       "       param_grid={'C': [0.1, 0.2, 0.3, 0.4, 0.5, 1]},\n",
       "       pre_dispatch='2*n_jobs', refit=True, return_train_score='warn',\n",
       "       scoring='accuracy', verbose=5)"
      ]
     },
     "execution_count": 538,
     "metadata": {},
     "output_type": "execute_result"
    }
   ],
   "source": [
    "%%time\n",
    "clf.fit(X_train_counts, y_train)"
   ]
  },
  {
   "cell_type": "code",
   "execution_count": 539,
   "metadata": {
    "collapsed": false
   },
   "outputs": [
    {
     "data": {
      "text/plain": [
       "0.49444444444444446"
      ]
     },
     "execution_count": 539,
     "metadata": {},
     "output_type": "execute_result"
    }
   ],
   "source": [
    "clf.best_score_"
   ]
  },
  {
   "cell_type": "code",
   "execution_count": 540,
   "metadata": {
    "collapsed": false
   },
   "outputs": [],
   "source": [
    "predictions = clf.predict(X_test_counts)"
   ]
  },
  {
   "cell_type": "code",
   "execution_count": 541,
   "metadata": {
    "collapsed": false
   },
   "outputs": [
    {
     "name": "stdout",
     "output_type": "stream",
     "text": [
      "Precision:   0.46\n",
      "Recall:   0.46\n",
      "F1-measure:   0.46\n",
      "Accuracy:   0.46\n",
      "             precision    recall  f1-score   support\n",
      "\n",
      "          0       0.50      0.42      0.46       140\n",
      "          1       0.42      0.50      0.46       118\n",
      "\n",
      "avg / total       0.46      0.46      0.46       258\n",
      "\n"
     ]
    },
    {
     "data": {
      "image/png": "[encoded data removed]",
      "text/plain": [
       "<matplotlib.figure.Figure at 0x23407c50>"
      ]
     },
     "metadata": {},
     "output_type": "display_data"
    }
   ],
   "source": [
    "print(\"Precision: {0:6.2f}\".format(precision_score(y_test, predictions, average='macro')))\n",
    "print(\"Recall: {0:6.2f}\".format(recall_score(y_test, predictions, average='macro')))\n",
    "print(\"F1-measure: {0:6.2f}\".format(f1_score(y_test, predictions, average='macro')))\n",
    "print(\"Accuracy: {0:6.2f}\".format(accuracy_score(y_test, predictions)))\n",
    "print(classification_report(y_test, predictions))\n",
    "labels = clf.classes_\n",
    "sns.heatmap(data=confusion_matrix(y_test, predictions), annot=True, fmt=\"d\", cbar=False, xticklabels=labels, yticklabels=labels)\n",
    "plt.title(\"Confusion matrix\")\n",
    "plt.show()"
   ]
  },
  {
   "cell_type": "code",
   "execution_count": 542,
   "metadata": {
    "collapsed": true
   },
   "outputs": [],
   "source": [
    "transformer = TfidfTransformer()\n",
    "reducer = TruncatedSVD(n_components=30)"
   ]
  },
  {
   "cell_type": "code",
   "execution_count": 543,
   "metadata": {
    "collapsed": true
   },
   "outputs": [],
   "source": [
    "a = transformer.fit_transform(X_train_counts)\n",
    "b = reducer.fit_transform(a)\n",
    "c = transformer.fit_transform(X_test_counts)\n",
    "d = reducer.fit_transform(c)"
   ]
  },
  {
   "cell_type": "code",
   "execution_count": 544,
   "metadata": {
    "collapsed": true
   },
   "outputs": [],
   "source": [
    "clf = GridSearchCV(estimator=classifier, param_grid=params, scoring='accuracy', verbose=5)"
   ]
  },
  {
   "cell_type": "code",
   "execution_count": 545,
   "metadata": {
    "collapsed": false
   },
   "outputs": [
    {
     "name": "stdout",
     "output_type": "stream",
     "text": [
      "Fitting 3 folds for each of 6 candidates, totalling 18 fits\n",
      "[CV] C=0.1 ...........................................................\n",
      "[CV] .................. C=0.1, score=0.5033333333333333, total=   0.0s\n"
     ]
    },
    {
     "name": "stderr",
     "output_type": "stream",
     "text": [
      "[Parallel(n_jobs=1)]: Done   1 out of   1 | elapsed:    0.0s remaining:    0.0s\n"
     ]
    },
    {
     "name": "stdout",
     "output_type": "stream",
     "text": [
      "[CV] C=0.1 ...........................................................\n",
      "[CV] ................. C=0.1, score=0.48333333333333334, total=   0.0s\n"
     ]
    },
    {
     "name": "stderr",
     "output_type": "stream",
     "text": [
      "[Parallel(n_jobs=1)]: Done   2 out of   2 | elapsed:    0.0s remaining:    0.0s\n"
     ]
    },
    {
     "name": "stdout",
     "output_type": "stream",
     "text": [
      "[CV] C=0.1 ...........................................................\n",
      "[CV] ................................. C=0.1, score=0.5, total=   0.0s\n"
     ]
    },
    {
     "name": "stderr",
     "output_type": "stream",
     "text": [
      "[Parallel(n_jobs=1)]: Done   3 out of   3 | elapsed:    0.0s remaining:    0.0s\n"
     ]
    },
    {
     "name": "stdout",
     "output_type": "stream",
     "text": [
      "[CV] C=0.2 ...........................................................\n",
      "[CV] ................. C=0.2, score=0.48333333333333334, total=   0.0s\n"
     ]
    },
    {
     "name": "stderr",
     "output_type": "stream",
     "text": [
      "[Parallel(n_jobs=1)]: Done   4 out of   4 | elapsed:    0.0s remaining:    0.0s\n"
     ]
    },
    {
     "name": "stdout",
     "output_type": "stream",
     "text": [
      "[CV] C=0.2 ...........................................................\n",
      "[CV] .................. C=0.2, score=0.4666666666666667, total=   0.0s\n",
      "[CV] C=0.2 ...........................................................\n",
      "[CV] .................. C=0.2, score=0.5166666666666667, total=   0.0s\n",
      "[CV] C=0.3 ...........................................................\n",
      "[CV] .................. C=0.3, score=0.4866666666666667, total=   0.0s\n",
      "[CV] C=0.3 ...........................................................\n",
      "[CV] .................. C=0.3, score=0.4633333333333333, total=   0.0s\n",
      "[CV] C=0.3 ...........................................................\n",
      "[CV] .................. C=0.3, score=0.5033333333333333, total=   0.0s\n",
      "[CV] C=0.4 ...........................................................\n",
      "[CV] ................. C=0.4, score=0.49333333333333335, total=   0.0s\n",
      "[CV] C=0.4 ...........................................................\n",
      "[CV] ................................ C=0.4, score=0.48, total=   0.0s\n",
      "[CV] C=0.4 ...........................................................\n",
      "[CV] ................. C=0.4, score=0.49666666666666665, total=   0.0s\n",
      "[CV] C=0.5 ...........................................................\n",
      "[CV] ................. C=0.5, score=0.49333333333333335, total=   0.0s\n",
      "[CV] C=0.5 ...........................................................\n",
      "[CV] ................. C=0.5, score=0.49333333333333335, total=   0.0s\n",
      "[CV] C=0.5 ...........................................................\n",
      "[CV] .................. C=0.5, score=0.4866666666666667, total=   0.0s\n",
      "[CV] C=1 .............................................................\n",
      "[CV] .................... C=1, score=0.4766666666666667, total=   0.0s\n",
      "[CV] C=1 .............................................................\n",
      "[CV] .................... C=1, score=0.5066666666666667, total=   0.0s\n",
      "[CV] C=1 .............................................................\n",
      "[CV] .................... C=1, score=0.4866666666666667, total=   0.0s\n"
     ]
    },
    {
     "name": "stderr",
     "output_type": "stream",
     "text": [
      "[Parallel(n_jobs=1)]: Done  18 out of  18 | elapsed:    0.2s finished\n"
     ]
    },
    {
     "data": {
      "text/plain": [
       "GridSearchCV(cv=None, error_score='raise',\n",
       "       estimator=LogisticRegression(C=1.0, class_weight=None, dual=False, fit_intercept=True,\n",
       "          intercept_scaling=1, max_iter=100, multi_class='ovr', n_jobs=1,\n",
       "          penalty='l2', random_state=2904, solver='liblinear', tol=0.0001,\n",
       "          verbose=0, warm_start=False),\n",
       "       fit_params=None, iid=True, n_jobs=1,\n",
       "       param_grid={'C': [0.1, 0.2, 0.3, 0.4, 0.5, 1]},\n",
       "       pre_dispatch='2*n_jobs', refit=True, return_train_score='warn',\n",
       "       scoring='accuracy', verbose=5)"
      ]
     },
     "execution_count": 545,
     "metadata": {},
     "output_type": "execute_result"
    }
   ],
   "source": [
    "clf.fit(b, y_train)"
   ]
  },
  {
   "cell_type": "code",
   "execution_count": 546,
   "metadata": {
    "collapsed": false
   },
   "outputs": [
    {
     "data": {
      "text/plain": [
       "0.49555555555555558"
      ]
     },
     "execution_count": 546,
     "metadata": {},
     "output_type": "execute_result"
    }
   ],
   "source": [
    "clf.best_score_"
   ]
  },
  {
   "cell_type": "code",
   "execution_count": 547,
   "metadata": {
    "collapsed": false
   },
   "outputs": [],
   "source": [
    "predictions = clf.predict(d)"
   ]
  },
  {
   "cell_type": "code",
   "execution_count": 548,
   "metadata": {
    "collapsed": false
   },
   "outputs": [
    {
     "name": "stdout",
     "output_type": "stream",
     "text": [
      "Precision:   0.48\n",
      "Recall:   0.49\n",
      "F1-measure:   0.46\n",
      "Accuracy:   0.51\n",
      "             precision    recall  f1-score   support\n",
      "\n",
      "          0       0.54      0.76      0.63       140\n",
      "          1       0.43      0.21      0.28       118\n",
      "\n",
      "avg / total       0.49      0.51      0.47       258\n",
      "\n"
     ]
    },
    {
     "data": {
      "image/png": "[encoded data removed]",
      "text/plain": [
       "<matplotlib.figure.Figure at 0x22269550>"
      ]
     },
     "metadata": {},
     "output_type": "display_data"
    }
   ],
   "source": [
    "print(\"Precision: {0:6.2f}\".format(precision_score(y_test, predictions, average='macro')))\n",
    "print(\"Recall: {0:6.2f}\".format(recall_score(y_test, predictions, average='macro')))\n",
    "print(\"F1-measure: {0:6.2f}\".format(f1_score(y_test, predictions, average='macro')))\n",
    "print(\"Accuracy: {0:6.2f}\".format(accuracy_score(y_test, predictions)))\n",
    "print(classification_report(y_test, predictions))\n",
    "labels = clf.classes_\n",
    "sns.heatmap(data=confusion_matrix(y_test, predictions), annot=True, fmt=\"d\", cbar=False, xticklabels=labels, yticklabels=labels)\n",
    "plt.title(\"Confusion matrix\")\n",
    "plt.show()"
   ]
  },
  {
   "cell_type": "code",
   "execution_count": 549,
   "metadata": {
    "collapsed": false
   },
   "outputs": [
    {
     "data": {
      "text/plain": [
       "<bound method BaseEstimator.get_params of MultinomialNB(alpha=1.0, class_prior=None, fit_prior=True)>"
      ]
     },
     "execution_count": 549,
     "metadata": {},
     "output_type": "execute_result"
    }
   ],
   "source": [
    "classifier = MultinomialNB()\n",
    "\n",
    "classifier.get_params"
   ]
  },
  {
   "cell_type": "code",
   "execution_count": 550,
   "metadata": {
    "collapsed": true
   },
   "outputs": [],
   "source": [
    "params = {'alpha': [.001, .01, .1, .2, .3, .4, .5, .6, .7, .8, .9, 1]}"
   ]
  },
  {
   "cell_type": "code",
   "execution_count": 551,
   "metadata": {
    "collapsed": true
   },
   "outputs": [],
   "source": [
    "clf = GridSearchCV(estimator=classifier, param_grid=params, verbose=5, scoring='accuracy')"
   ]
  },
  {
   "cell_type": "code",
   "execution_count": 552,
   "metadata": {
    "collapsed": false
   },
   "outputs": [
    {
     "name": "stdout",
     "output_type": "stream",
     "text": [
      "Fitting 3 folds for each of 12 candidates, totalling 36 fits\n",
      "[CV] alpha=0.001 .....................................................\n",
      "[CV] .......................... alpha=0.001, score=0.56, total=   0.0s\n"
     ]
    },
    {
     "name": "stderr",
     "output_type": "stream",
     "text": [
      "[Parallel(n_jobs=1)]: Done   1 out of   1 | elapsed:    0.0s remaining:    0.0s\n"
     ]
    },
    {
     "name": "stdout",
     "output_type": "stream",
     "text": [
      "[CV] alpha=0.001 .....................................................\n",
      "[CV] ........................... alpha=0.001, score=0.5, total=   0.0s\n"
     ]
    },
    {
     "name": "stderr",
     "output_type": "stream",
     "text": [
      "[Parallel(n_jobs=1)]: Done   2 out of   2 | elapsed:    0.0s remaining:    0.0s\n"
     ]
    },
    {
     "name": "stdout",
     "output_type": "stream",
     "text": [
      "[CV] alpha=0.001 .....................................................\n",
      "[CV] ............ alpha=0.001, score=0.5533333333333333, total=   0.0s\n"
     ]
    },
    {
     "name": "stderr",
     "output_type": "stream",
     "text": [
      "[Parallel(n_jobs=1)]: Done   3 out of   3 | elapsed:    0.1s remaining:    0.0s\n"
     ]
    },
    {
     "name": "stdout",
     "output_type": "stream",
     "text": [
      "[CV] alpha=0.01 ......................................................\n",
      "[CV] ............. alpha=0.01, score=0.5433333333333333, total=   0.0s\n"
     ]
    },
    {
     "name": "stderr",
     "output_type": "stream",
     "text": [
      "[Parallel(n_jobs=1)]: Done   4 out of   4 | elapsed:    0.1s remaining:    0.0s\n"
     ]
    },
    {
     "name": "stdout",
     "output_type": "stream",
     "text": [
      "[CV] alpha=0.01 ......................................................\n",
      "[CV] ............................ alpha=0.01, score=0.5, total=   0.0s\n",
      "[CV] alpha=0.01 ......................................................\n",
      "[CV] ............. alpha=0.01, score=0.5333333333333333, total=   0.0s\n",
      "[CV] alpha=0.1 .......................................................\n",
      "[CV] ............................ alpha=0.1, score=0.53, total=   0.0s\n",
      "[CV] alpha=0.1 .......................................................\n",
      "[CV] ............. alpha=0.1, score=0.49333333333333335, total=   0.0s\n",
      "[CV] alpha=0.1 .......................................................\n",
      "[CV] ............................ alpha=0.1, score=0.51, total=   0.0s\n",
      "[CV] alpha=0.2 .......................................................\n",
      "[CV] .............. alpha=0.2, score=0.5333333333333333, total=   0.0s\n",
      "[CV] alpha=0.2 .......................................................\n",
      "[CV] ............. alpha=0.2, score=0.47333333333333333, total=   0.0s\n",
      "[CV] alpha=0.2 .......................................................\n",
      "[CV] .............. alpha=0.2, score=0.5066666666666667, total=   0.0s\n",
      "[CV] alpha=0.3 .......................................................\n",
      "[CV] .............. alpha=0.3, score=0.5366666666666666, total=   0.0s\n",
      "[CV] alpha=0.3 .......................................................\n",
      "[CV] ............. alpha=0.3, score=0.48333333333333334, total=   0.0s\n",
      "[CV] alpha=0.3 .......................................................\n",
      "[CV] ............. alpha=0.3, score=0.49666666666666665, total=   0.0s\n",
      "[CV] alpha=0.4 .......................................................\n",
      "[CV] .............. alpha=0.4, score=0.5366666666666666, total=   0.0s\n",
      "[CV] alpha=0.4 .......................................................\n",
      "[CV] ............................ alpha=0.4, score=0.49, total=   0.0s\n",
      "[CV] alpha=0.4 .......................................................\n",
      "[CV] ............. alpha=0.4, score=0.49333333333333335, total=   0.0s\n",
      "[CV] alpha=0.5 .......................................................\n",
      "[CV] ............................ alpha=0.5, score=0.54, total=   0.0s\n",
      "[CV] alpha=0.5 .......................................................\n",
      "[CV] ............. alpha=0.5, score=0.49666666666666665, total=   0.0s\n",
      "[CV] alpha=0.5 .......................................................\n",
      "[CV] ............. alpha=0.5, score=0.49666666666666665, total=   0.0s\n",
      "[CV] alpha=0.6 .......................................................\n",
      "[CV] .............. alpha=0.6, score=0.5433333333333333, total=   0.0s\n",
      "[CV] alpha=0.6 .......................................................\n",
      "[CV] .............. alpha=0.6, score=0.5033333333333333, total=   0.0s\n",
      "[CV] alpha=0.6 .......................................................\n",
      "[CV] ............................ alpha=0.6, score=0.51, total=   0.0s\n",
      "[CV] alpha=0.7 .......................................................\n",
      "[CV] ............................ alpha=0.7, score=0.54, total=   0.0s\n",
      "[CV] alpha=0.7 .......................................................\n",
      "[CV] .............. alpha=0.7, score=0.5033333333333333, total=   0.0s\n",
      "[CV] alpha=0.7 .......................................................\n",
      "[CV] .............. alpha=0.7, score=0.5166666666666667, total=   0.0s\n",
      "[CV] alpha=0.8 .......................................................\n",
      "[CV] .............. alpha=0.8, score=0.5366666666666666, total=   0.0s\n",
      "[CV] alpha=0.8 .......................................................\n",
      "[CV] ............. alpha=0.8, score=0.49666666666666665, total=   0.0s\n",
      "[CV] alpha=0.8 .......................................................\n",
      "[CV] .............. alpha=0.8, score=0.5166666666666667, total=   0.0s\n",
      "[CV] alpha=0.9 .......................................................\n",
      "[CV] .............. alpha=0.9, score=0.5466666666666666, total=   0.0s\n",
      "[CV] alpha=0.9 .......................................................\n",
      "[CV] ............. alpha=0.9, score=0.49333333333333335, total=   0.0s\n",
      "[CV] alpha=0.9 .......................................................\n",
      "[CV] .............. alpha=0.9, score=0.5133333333333333, total=   0.0s\n",
      "[CV] alpha=1 .........................................................\n",
      "[CV] ................ alpha=1, score=0.5433333333333333, total=   0.0s\n",
      "[CV] alpha=1 .........................................................\n",
      "[CV] ............... alpha=1, score=0.49666666666666665, total=   0.0s\n",
      "[CV] alpha=1 .........................................................\n",
      "[CV] .............................. alpha=1, score=0.52, total=   0.0s\n"
     ]
    },
    {
     "name": "stderr",
     "output_type": "stream",
     "text": [
      "[Parallel(n_jobs=1)]: Done  36 out of  36 | elapsed:    1.5s finished\n"
     ]
    },
    {
     "name": "stdout",
     "output_type": "stream",
     "text": [
      "Wall time: 1.62 s\n"
     ]
    },
    {
     "data": {
      "text/plain": [
       "GridSearchCV(cv=None, error_score='raise',\n",
       "       estimator=MultinomialNB(alpha=1.0, class_prior=None, fit_prior=True),\n",
       "       fit_params=None, iid=True, n_jobs=1,\n",
       "       param_grid={'alpha': [0.001, 0.01, 0.1, 0.2, 0.3, 0.4, 0.5, 0.6, 0.7, 0.8, 0.9, 1]},\n",
       "       pre_dispatch='2*n_jobs', refit=True, return_train_score='warn',\n",
       "       scoring='accuracy', verbose=5)"
      ]
     },
     "execution_count": 552,
     "metadata": {},
     "output_type": "execute_result"
    }
   ],
   "source": [
    "%%time\n",
    "clf.fit(X_train_counts, y_train)"
   ]
  },
  {
   "cell_type": "code",
   "execution_count": 553,
   "metadata": {
    "collapsed": false
   },
   "outputs": [
    {
     "data": {
      "text/plain": [
       "(0.5377777777777778, {'alpha': 0.001})"
      ]
     },
     "execution_count": 553,
     "metadata": {},
     "output_type": "execute_result"
    }
   ],
   "source": [
    "clf.best_score_, clf.best_params_"
   ]
  },
  {
   "cell_type": "code",
   "execution_count": 554,
   "metadata": {
    "collapsed": false
   },
   "outputs": [],
   "source": [
    "predictions = clf.predict(X_test_counts)"
   ]
  },
  {
   "cell_type": "code",
   "execution_count": 555,
   "metadata": {
    "collapsed": false
   },
   "outputs": [
    {
     "name": "stdout",
     "output_type": "stream",
     "text": [
      "Precision:   0.53\n",
      "Recall:   0.53\n",
      "F1-measure:   0.53\n",
      "Accuracy:   0.54\n",
      "             precision    recall  f1-score   support\n",
      "\n",
      "          0       0.57      0.59      0.58       140\n",
      "          1       0.50      0.48      0.49       118\n",
      "\n",
      "avg / total       0.54      0.54      0.54       258\n",
      "\n"
     ]
    },
    {
     "data": {
      "image/png": "[encoded data removed]",
      "text/plain": [
       "<matplotlib.figure.Figure at 0x4e3ebc88>"
      ]
     },
     "metadata": {},
     "output_type": "display_data"
    }
   ],
   "source": [
    "print(\"Precision: {0:6.2f}\".format(precision_score(y_test, predictions, average='macro')))\n",
    "print(\"Recall: {0:6.2f}\".format(recall_score(y_test, predictions, average='macro')))\n",
    "print(\"F1-measure: {0:6.2f}\".format(f1_score(y_test, predictions, average='macro')))\n",
    "print(\"Accuracy: {0:6.2f}\".format(accuracy_score(y_test, predictions)))\n",
    "print(classification_report(y_test, predictions))\n",
    "labels = clf.classes_\n",
    "sns.heatmap(data=confusion_matrix(y_test, predictions), annot=True, fmt=\"d\", cbar=False, xticklabels=labels, yticklabels=labels)\n",
    "plt.title(\"Confusion matrix\")\n",
    "plt.show()"
   ]
  },
  {
   "cell_type": "code",
   "execution_count": 556,
   "metadata": {
    "collapsed": true
   },
   "outputs": [],
   "source": [
    "clf = GridSearchCV(estimator=classifier, param_grid=params, scoring='accuracy', verbose=5)"
   ]
  },
  {
   "cell_type": "code",
   "execution_count": 558,
   "metadata": {
    "collapsed": false
   },
   "outputs": [
    {
     "name": "stdout",
     "output_type": "stream",
     "text": [
      "Fitting 3 folds for each of 12 candidates, totalling 36 fits\n",
      "[CV] alpha=0.001 .....................................................\n",
      "[CV] ............ alpha=0.001, score=0.5433333333333333, total=   0.0s\n"
     ]
    },
    {
     "name": "stderr",
     "output_type": "stream",
     "text": [
      "[Parallel(n_jobs=1)]: Done   1 out of   1 | elapsed:    0.0s remaining:    0.0s\n"
     ]
    },
    {
     "name": "stdout",
     "output_type": "stream",
     "text": [
      "[CV] alpha=0.001 .....................................................\n",
      "[CV] ............ alpha=0.001, score=0.5266666666666666, total=   0.0s\n"
     ]
    },
    {
     "name": "stderr",
     "output_type": "stream",
     "text": [
      "[Parallel(n_jobs=1)]: Done   2 out of   2 | elapsed:    0.0s remaining:    0.0s\n"
     ]
    },
    {
     "name": "stdout",
     "output_type": "stream",
     "text": [
      "[CV] alpha=0.001 .....................................................\n",
      "[CV] ............ alpha=0.001, score=0.5233333333333333, total=   0.0s\n"
     ]
    },
    {
     "name": "stderr",
     "output_type": "stream",
     "text": [
      "[Parallel(n_jobs=1)]: Done   3 out of   3 | elapsed:    0.1s remaining:    0.0s\n"
     ]
    },
    {
     "name": "stdout",
     "output_type": "stream",
     "text": [
      "[CV] alpha=0.01 ......................................................\n",
      "[CV] ............. alpha=0.01, score=0.5566666666666666, total=   0.0s\n"
     ]
    },
    {
     "name": "stderr",
     "output_type": "stream",
     "text": [
      "[Parallel(n_jobs=1)]: Done   4 out of   4 | elapsed:    0.1s remaining:    0.0s\n"
     ]
    },
    {
     "name": "stdout",
     "output_type": "stream",
     "text": [
      "[CV] alpha=0.01 ......................................................\n",
      "[CV] ............. alpha=0.01, score=0.5066666666666667, total=   0.0s\n",
      "[CV] alpha=0.01 ......................................................\n",
      "[CV] ............ alpha=0.01, score=0.49666666666666665, total=   0.0s\n",
      "[CV] alpha=0.1 .......................................................\n",
      "[CV] ............................ alpha=0.1, score=0.55, total=   0.0s\n",
      "[CV] alpha=0.1 .......................................................\n",
      "[CV] ............. alpha=0.1, score=0.48333333333333334, total=   0.0s\n",
      "[CV] alpha=0.1 .......................................................\n",
      "[CV] ............................. alpha=0.1, score=0.5, total=   0.0s\n",
      "[CV] alpha=0.2 .......................................................\n",
      "[CV] ............................ alpha=0.2, score=0.54, total=   0.0s\n",
      "[CV] alpha=0.2 .......................................................\n",
      "[CV] ............. alpha=0.2, score=0.49333333333333335, total=   0.0s\n",
      "[CV] alpha=0.2 .......................................................\n",
      "[CV] .............. alpha=0.2, score=0.5033333333333333, total=   0.0s\n",
      "[CV] alpha=0.3 .......................................................\n",
      "[CV] .............. alpha=0.3, score=0.5466666666666666, total=   0.0s\n",
      "[CV] alpha=0.3 .......................................................\n",
      "[CV] ............................ alpha=0.3, score=0.48, total=   0.0s\n",
      "[CV] alpha=0.3 .......................................................\n",
      "[CV] .............. alpha=0.3, score=0.5133333333333333, total=   0.0s\n",
      "[CV] alpha=0.4 .......................................................\n",
      "[CV] .............. alpha=0.4, score=0.5433333333333333, total=   0.0s\n",
      "[CV] alpha=0.4 .......................................................\n",
      "[CV] .............. alpha=0.4, score=0.4766666666666667, total=   0.0s\n",
      "[CV] alpha=0.4 .......................................................\n",
      "[CV] .............. alpha=0.4, score=0.5166666666666667, total=   0.0s\n",
      "[CV] alpha=0.5 .......................................................\n",
      "[CV] .............. alpha=0.5, score=0.5333333333333333, total=   0.0s\n",
      "[CV] alpha=0.5 .......................................................\n",
      "[CV] .............. alpha=0.5, score=0.4766666666666667, total=   0.0s\n",
      "[CV] alpha=0.5 .......................................................\n",
      "[CV] .............. alpha=0.5, score=0.5166666666666667, total=   0.0s\n",
      "[CV] alpha=0.6 .......................................................\n",
      "[CV] .............. alpha=0.6, score=0.5333333333333333, total=   0.0s\n",
      "[CV] alpha=0.6 .......................................................\n",
      "[CV] ............................ alpha=0.6, score=0.47, total=   0.0s\n",
      "[CV] alpha=0.6 .......................................................\n",
      "[CV] ............................ alpha=0.6, score=0.52, total=   0.0s\n",
      "[CV] alpha=0.7 .......................................................\n",
      "[CV] ............................ alpha=0.7, score=0.54, total=   0.0s\n",
      "[CV] alpha=0.7 .......................................................\n",
      "[CV] ............................ alpha=0.7, score=0.47, total=   0.0s\n",
      "[CV] alpha=0.7 .......................................................\n",
      "[CV] .............. alpha=0.7, score=0.5166666666666667, total=   0.0s\n",
      "[CV] alpha=0.8 .......................................................\n",
      "[CV] .............. alpha=0.8, score=0.5366666666666666, total=   0.0s\n",
      "[CV] alpha=0.8 .......................................................\n",
      "[CV] ............................ alpha=0.8, score=0.48, total=   0.0s\n",
      "[CV] alpha=0.8 .......................................................\n",
      "[CV] ............................ alpha=0.8, score=0.51, total=   0.0s\n",
      "[CV] alpha=0.9 .......................................................\n",
      "[CV] ............................ alpha=0.9, score=0.55, total=   0.0s\n",
      "[CV] alpha=0.9 .......................................................\n",
      "[CV] .............. alpha=0.9, score=0.4866666666666667, total=   0.0s\n",
      "[CV] alpha=0.9 .......................................................\n",
      "[CV] ............................ alpha=0.9, score=0.52, total=   0.0s\n",
      "[CV] alpha=1 .........................................................\n",
      "[CV] .............................. alpha=1, score=0.55, total=   0.0s\n",
      "[CV] alpha=1 .........................................................\n",
      "[CV] ................ alpha=1, score=0.4866666666666667, total=   0.0s\n",
      "[CV] alpha=1 .........................................................\n",
      "[CV] ................ alpha=1, score=0.5133333333333333, total=   0.0s\n"
     ]
    },
    {
     "name": "stderr",
     "output_type": "stream",
     "text": [
      "[Parallel(n_jobs=1)]: Done  36 out of  36 | elapsed:    1.5s finished\n"
     ]
    },
    {
     "data": {
      "text/plain": [
       "GridSearchCV(cv=None, error_score='raise',\n",
       "       estimator=MultinomialNB(alpha=1.0, class_prior=None, fit_prior=True),\n",
       "       fit_params=None, iid=True, n_jobs=1,\n",
       "       param_grid={'alpha': [0.001, 0.01, 0.1, 0.2, 0.3, 0.4, 0.5, 0.6, 0.7, 0.8, 0.9, 1]},\n",
       "       pre_dispatch='2*n_jobs', refit=True, return_train_score='warn',\n",
       "       scoring='accuracy', verbose=5)"
      ]
     },
     "execution_count": 558,
     "metadata": {},
     "output_type": "execute_result"
    }
   ],
   "source": [
    "clf.fit(a, y_train)"
   ]
  },
  {
   "cell_type": "code",
   "execution_count": 559,
   "metadata": {
    "collapsed": false
   },
   "outputs": [
    {
     "data": {
      "text/plain": [
       "(0.53111111111111109, {'alpha': 0.001})"
      ]
     },
     "execution_count": 559,
     "metadata": {},
     "output_type": "execute_result"
    }
   ],
   "source": [
    "clf.best_score_, clf.best_params_"
   ]
  },
  {
   "cell_type": "code",
   "execution_count": 560,
   "metadata": {
    "collapsed": true
   },
   "outputs": [],
   "source": [
    "predictions = clf.predict(c)"
   ]
  },
  {
   "cell_type": "code",
   "execution_count": 561,
   "metadata": {
    "collapsed": false
   },
   "outputs": [
    {
     "name": "stdout",
     "output_type": "stream",
     "text": [
      "Precision:   0.52\n",
      "Recall:   0.53\n",
      "F1-measure:   0.52\n",
      "Accuracy:   0.53\n",
      "             precision    recall  f1-score   support\n",
      "\n",
      "          0       0.57      0.55      0.56       140\n",
      "          1       0.48      0.50      0.49       118\n",
      "\n",
      "avg / total       0.53      0.53      0.53       258\n",
      "\n"
     ]
    },
    {
     "data": {
      "image/png": "[encoded data removed]",
      "text/plain": [
       "<matplotlib.figure.Figure at 0x234e1128>"
      ]
     },
     "metadata": {},
     "output_type": "display_data"
    }
   ],
   "source": [
    "print(\"Precision: {0:6.2f}\".format(precision_score(y_test, predictions, average='macro')))\n",
    "print(\"Recall: {0:6.2f}\".format(recall_score(y_test, predictions, average='macro')))\n",
    "print(\"F1-measure: {0:6.2f}\".format(f1_score(y_test, predictions, average='macro')))\n",
    "print(\"Accuracy: {0:6.2f}\".format(accuracy_score(y_test, predictions)))\n",
    "print(classification_report(y_test, predictions))\n",
    "labels = clf.classes_\n",
    "sns.heatmap(data=confusion_matrix(y_test, predictions), annot=True, fmt=\"d\", cbar=False, xticklabels=labels, yticklabels=labels)\n",
    "plt.title(\"Confusion matrix\")\n",
    "plt.show()"
   ]
  },
  {
   "cell_type": "code",
   "execution_count": 566,
   "metadata": {
    "collapsed": true
   },
   "outputs": [],
   "source": [
    "classifier = SGDClassifier(random_state=2904, verbose=5)"
   ]
  },
  {
   "cell_type": "code",
   "execution_count": 567,
   "metadata": {
    "collapsed": false
   },
   "outputs": [
    {
     "data": {
      "text/plain": [
       "<bound method BaseEstimator.get_params of SGDClassifier(alpha=0.0001, average=False, class_weight=None, epsilon=0.1,\n",
       "       eta0=0.0, fit_intercept=True, l1_ratio=0.15,\n",
       "       learning_rate='optimal', loss='hinge', max_iter=None, n_iter=None,\n",
       "       n_jobs=1, penalty='l2', power_t=0.5, random_state=2904,\n",
       "       shuffle=True, tol=None, verbose=5, warm_start=False)>"
      ]
     },
     "execution_count": 567,
     "metadata": {},
     "output_type": "execute_result"
    }
   ],
   "source": [
    "classifier.get_params"
   ]
  },
  {
   "cell_type": "code",
   "execution_count": 568,
   "metadata": {
    "collapsed": true
   },
   "outputs": [],
   "source": [
    "params = {'alpha' : [.0001, .005, .01, .05, .1, .5 ]}"
   ]
  },
  {
   "cell_type": "code",
   "execution_count": 571,
   "metadata": {
    "collapsed": true
   },
   "outputs": [],
   "source": [
    "clf = GridSearchCV(estimator=classifier, param_grid=params, scoring='accuracy')"
   ]
  },
  {
   "cell_type": "code",
   "execution_count": 572,
   "metadata": {
    "collapsed": false
   },
   "outputs": [
    {
     "name": "stderr",
     "output_type": "stream",
     "text": [
      "D:\\Anaconda\\lib\\site-packages\\sklearn\\linear_model\\stochastic_gradient.py:128: FutureWarning: max_iter and tol parameters have been added in <class 'sklearn.linear_model.stochastic_gradient.SGDClassifier'> in 0.19. If both are left unset, they default to max_iter=5 and tol=None. If tol is not None, max_iter defaults to max_iter=1000. From 0.21, default max_iter will be 1000, and default tol will be 1e-3.\n",
      "  \"and default tol will be 1e-3.\" % type(self), FutureWarning)\n"
     ]
    },
    {
     "name": "stdout",
     "output_type": "stream",
     "text": [
      "-- Epoch 1\n",
      "Norm: 2048.06, NNZs: 60859, Bias: 0.728416, T: 600, Avg. loss: 171.457419\n",
      "Total training time: 0.01 seconds.\n",
      "-- Epoch 2\n",
      "Norm: 1740.36, NNZs: 84105, Bias: -0.134857, T: 1200, Avg. loss: 52.240329\n",
      "Total training time: 0.02 seconds.\n",
      "-- Epoch 3\n",
      "Norm: 1430.22, NNZs: 90263, Bias: 0.162531, T: 1800, Avg. loss: 11.850746\n",
      "Total training time: 0.04 seconds.\n",
      "-- Epoch 4\n",
      "Norm: 1192.42, NNZs: 92359, Bias: 0.189633, T: 2400, Avg. loss: 1.310534\n",
      "Total training time: 0.06 seconds.\n",
      "-- Epoch 5\n",
      "Norm: 1022.04, NNZs: 93435, Bias: 0.192008, T: 3000, Avg. loss: 0.244672\n",
      "Total training time: 0.07 seconds.\n"
     ]
    },
    {
     "name": "stderr",
     "output_type": "stream",
     "text": [
      "D:\\Anaconda\\lib\\site-packages\\sklearn\\linear_model\\stochastic_gradient.py:128: FutureWarning: max_iter and tol parameters have been added in <class 'sklearn.linear_model.stochastic_gradient.SGDClassifier'> in 0.19. If both are left unset, they default to max_iter=5 and tol=None. If tol is not None, max_iter defaults to max_iter=1000. From 0.21, default max_iter will be 1000, and default tol will be 1e-3.\n",
      "  \"and default tol will be 1e-3.\" % type(self), FutureWarning)\n"
     ]
    },
    {
     "name": "stdout",
     "output_type": "stream",
     "text": [
      "-- Epoch 1\n",
      "Norm: 2088.21, NNZs: 62606, Bias: -0.285101, T: 600, Avg. loss: 175.540390\n",
      "Total training time: 0.01 seconds.\n",
      "-- Epoch 2\n",
      "Norm: 1754.42, NNZs: 81220, Bias: -0.305642, T: 1200, Avg. loss: 44.949547\n",
      "Total training time: 0.02 seconds.\n",
      "-- Epoch 3\n",
      "Norm: 1448.24, NNZs: 86905, Bias: -0.033108, T: 1800, Avg. loss: 8.729869\n",
      "Total training time: 0.04 seconds.\n",
      "-- Epoch 4\n",
      "Norm: 1214.10, NNZs: 89051, Bias: 0.125970, T: 2400, Avg. loss: 2.246413\n",
      "Total training time: 0.05 seconds.\n",
      "-- Epoch 5\n",
      "Norm: 1036.08, NNZs: 89541, Bias: 0.180224, T: 3000, Avg. loss: 0.656722\n",
      "Total training time: 0.07 seconds.\n"
     ]
    },
    {
     "name": "stderr",
     "output_type": "stream",
     "text": [
      "D:\\Anaconda\\lib\\site-packages\\sklearn\\linear_model\\stochastic_gradient.py:128: FutureWarning: max_iter and tol parameters have been added in <class 'sklearn.linear_model.stochastic_gradient.SGDClassifier'> in 0.19. If both are left unset, they default to max_iter=5 and tol=None. If tol is not None, max_iter defaults to max_iter=1000. From 0.21, default max_iter will be 1000, and default tol will be 1e-3.\n",
      "  \"and default tol will be 1e-3.\" % type(self), FutureWarning)\n"
     ]
    },
    {
     "name": "stdout",
     "output_type": "stream",
     "text": [
      "-- Epoch 1\n",
      "Norm: 1962.87, NNZs: 51464, Bias: 0.973087, T: 600, Avg. loss: 155.000910\n",
      "Total training time: 0.01 seconds.\n",
      "-- Epoch 2\n",
      "Norm: 1689.26, NNZs: 71776, Bias: 0.688266, T: 1200, Avg. loss: 57.393935\n",
      "Total training time: 0.03 seconds.\n",
      "-- Epoch 3\n",
      "Norm: 1413.88, NNZs: 79214, Bias: 0.758486, T: 1800, Avg. loss: 9.128900\n",
      "Total training time: 0.04 seconds.\n",
      "-- Epoch 4\n",
      "Norm: 1183.43, NNZs: 81919, Bias: 0.855145, T: 2400, Avg. loss: 2.422301\n",
      "Total training time: 0.06 seconds.\n",
      "-- Epoch 5\n",
      "Norm: 1014.45, NNZs: 83024, Bias: 0.882336, T: 3000, Avg. loss: 0.506741\n",
      "Total training time: 0.07 seconds.\n"
     ]
    },
    {
     "name": "stderr",
     "output_type": "stream",
     "text": [
      "D:\\Anaconda\\lib\\site-packages\\sklearn\\linear_model\\stochastic_gradient.py:128: FutureWarning: max_iter and tol parameters have been added in <class 'sklearn.linear_model.stochastic_gradient.SGDClassifier'> in 0.19. If both are left unset, they default to max_iter=5 and tol=None. If tol is not None, max_iter defaults to max_iter=1000. From 0.21, default max_iter will be 1000, and default tol will be 1e-3.\n",
      "  \"and default tol will be 1e-3.\" % type(self), FutureWarning)\n"
     ]
    },
    {
     "name": "stdout",
     "output_type": "stream",
     "text": [
      "-- Epoch 1\n",
      "Norm: 101.80, NNZs: 63032, Bias: 0.139221, T: 600, Avg. loss: 16.751760\n",
      "Total training time: 0.01 seconds.\n",
      "-- Epoch 2\n",
      "Norm: 60.90, NNZs: 84018, Bias: 0.130859, T: 1200, Avg. loss: 2.139186\n",
      "Total training time: 0.03 seconds.\n",
      "-- Epoch 3\n",
      "Norm: 43.44, NNZs: 90575, Bias: 0.134046, T: 1800, Avg. loss: 0.309152\n",
      "Total training time: 0.05 seconds.\n",
      "-- Epoch 4\n",
      "Norm: 33.57, NNZs: 94696, Bias: 0.133605, T: 2400, Avg. loss: 0.094375\n",
      "Total training time: 0.06 seconds.\n",
      "-- Epoch 5\n",
      "Norm: 27.39, NNZs: 96872, Bias: 0.135181, T: 3000, Avg. loss: 0.023405\n",
      "Total training time: 0.08 seconds.\n"
     ]
    },
    {
     "name": "stderr",
     "output_type": "stream",
     "text": [
      "D:\\Anaconda\\lib\\site-packages\\sklearn\\linear_model\\stochastic_gradient.py:128: FutureWarning: max_iter and tol parameters have been added in <class 'sklearn.linear_model.stochastic_gradient.SGDClassifier'> in 0.19. If both are left unset, they default to max_iter=5 and tol=None. If tol is not None, max_iter defaults to max_iter=1000. From 0.21, default max_iter will be 1000, and default tol will be 1e-3.\n",
      "  \"and default tol will be 1e-3.\" % type(self), FutureWarning)\n"
     ]
    },
    {
     "name": "stdout",
     "output_type": "stream",
     "text": [
      "-- Epoch 1\n",
      "Norm: 101.71, NNZs: 61705, Bias: 0.020057, T: 600, Avg. loss: 17.304021\n",
      "Total training time: 0.02 seconds.\n",
      "-- Epoch 2\n",
      "Norm: 62.15, NNZs: 81572, Bias: 0.021789, T: 1200, Avg. loss: 2.438093\n",
      "Total training time: 0.03 seconds.\n",
      "-- Epoch 3\n",
      "Norm: 43.68, NNZs: 87307, Bias: 0.034234, T: 1800, Avg. loss: 0.273607\n",
      "Total training time: 0.05 seconds.\n",
      "-- Epoch 4\n",
      "Norm: 33.65, NNZs: 89803, Bias: 0.032010, T: 2400, Avg. loss: 0.077130\n",
      "Total training time: 0.06 seconds.\n",
      "-- Epoch 5\n",
      "Norm: 27.17, NNZs: 90539, Bias: 0.032038, T: 3000, Avg. loss: 0.010703\n",
      "Total training time: 0.08 seconds.\n"
     ]
    },
    {
     "name": "stderr",
     "output_type": "stream",
     "text": [
      "D:\\Anaconda\\lib\\site-packages\\sklearn\\linear_model\\stochastic_gradient.py:128: FutureWarning: max_iter and tol parameters have been added in <class 'sklearn.linear_model.stochastic_gradient.SGDClassifier'> in 0.19. If both are left unset, they default to max_iter=5 and tol=None. If tol is not None, max_iter defaults to max_iter=1000. From 0.21, default max_iter will be 1000, and default tol will be 1e-3.\n",
      "  \"and default tol will be 1e-3.\" % type(self), FutureWarning)\n"
     ]
    },
    {
     "name": "stdout",
     "output_type": "stream",
     "text": [
      "-- Epoch 1\n",
      "Norm: 94.60, NNZs: 51377, Bias: 0.005182, T: 600, Avg. loss: 15.060964\n",
      "Total training time: 0.01 seconds.\n",
      "-- Epoch 2\n",
      "Norm: 60.15, NNZs: 73573, Bias: 0.016313, T: 1200, Avg. loss: 2.399004\n",
      "Total training time: 0.02 seconds.\n",
      "-- Epoch 3\n",
      "Norm: 43.42, NNZs: 82189, Bias: 0.016940, T: 1800, Avg. loss: 0.449175\n",
      "Total training time: 0.04 seconds.\n",
      "-- Epoch 4\n",
      "Norm: 33.68, NNZs: 85856, Bias: 0.013292, T: 2400, Avg. loss: 0.113991\n",
      "Total training time: 0.05 seconds.\n",
      "-- Epoch 5\n",
      "Norm: 27.14, NNZs: 86144, Bias: 0.016287, T: 3000, Avg. loss: 0.005751\n",
      "Total training time: 0.07 seconds.\n"
     ]
    },
    {
     "name": "stderr",
     "output_type": "stream",
     "text": [
      "D:\\Anaconda\\lib\\site-packages\\sklearn\\linear_model\\stochastic_gradient.py:128: FutureWarning: max_iter and tol parameters have been added in <class 'sklearn.linear_model.stochastic_gradient.SGDClassifier'> in 0.19. If both are left unset, they default to max_iter=5 and tol=None. If tol is not None, max_iter defaults to max_iter=1000. From 0.21, default max_iter will be 1000, and default tol will be 1e-3.\n",
      "  \"and default tol will be 1e-3.\" % type(self), FutureWarning)\n"
     ]
    },
    {
     "name": "stdout",
     "output_type": "stream",
     "text": [
      "-- Epoch 1\n",
      "Norm: 51.60, NNZs: 62014, Bias: 0.113646, T: 600, Avg. loss: 9.287036\n",
      "Total training time: 0.01 seconds.\n",
      "-- Epoch 2\n",
      "Norm: 31.49, NNZs: 86722, Bias: 0.101376, T: 1200, Avg. loss: 1.452802\n",
      "Total training time: 0.02 seconds.\n",
      "-- Epoch 3\n",
      "Norm: 22.85, NNZs: 97772, Bias: 0.103155, T: 1800, Avg. loss: 0.244296\n",
      "Total training time: 0.03 seconds.\n",
      "-- Epoch 4\n",
      "Norm: 17.55, NNZs: 100395, Bias: 0.102208, T: 2400, Avg. loss: 0.053535\n",
      "Total training time: 0.05 seconds.\n",
      "-- Epoch 5\n",
      "Norm: 14.18, NNZs: 101521, Bias: 0.102488, T: 3000, Avg. loss: 0.007956\n",
      "Total training time: 0.07 seconds.\n"
     ]
    },
    {
     "name": "stderr",
     "output_type": "stream",
     "text": [
      "D:\\Anaconda\\lib\\site-packages\\sklearn\\linear_model\\stochastic_gradient.py:128: FutureWarning: max_iter and tol parameters have been added in <class 'sklearn.linear_model.stochastic_gradient.SGDClassifier'> in 0.19. If both are left unset, they default to max_iter=5 and tol=None. If tol is not None, max_iter defaults to max_iter=1000. From 0.21, default max_iter will be 1000, and default tol will be 1e-3.\n",
      "  \"and default tol will be 1e-3.\" % type(self), FutureWarning)\n"
     ]
    },
    {
     "name": "stdout",
     "output_type": "stream",
     "text": [
      "-- Epoch 1\n",
      "Norm: 53.19, NNZs: 62511, Bias: 0.032670, T: 600, Avg. loss: 10.446547\n",
      "Total training time: 0.01 seconds.\n",
      "-- Epoch 2\n",
      "Norm: 32.24, NNZs: 84076, Bias: 0.035343, T: 1200, Avg. loss: 1.346409\n",
      "Total training time: 0.03 seconds.\n",
      "-- Epoch 3\n",
      "Norm: 22.44, NNZs: 89231, Bias: 0.043014, T: 1800, Avg. loss: 0.149013\n",
      "Total training time: 0.04 seconds.\n",
      "-- Epoch 4\n",
      "Norm: 17.11, NNZs: 90943, Bias: 0.041606, T: 2400, Avg. loss: 0.034502\n",
      "Total training time: 0.06 seconds.\n",
      "-- Epoch 5\n",
      "Norm: 13.97, NNZs: 92304, Bias: 0.041939, T: 3000, Avg. loss: 0.017726\n",
      "Total training time: 0.07 seconds.\n"
     ]
    },
    {
     "name": "stderr",
     "output_type": "stream",
     "text": [
      "D:\\Anaconda\\lib\\site-packages\\sklearn\\linear_model\\stochastic_gradient.py:128: FutureWarning: max_iter and tol parameters have been added in <class 'sklearn.linear_model.stochastic_gradient.SGDClassifier'> in 0.19. If both are left unset, they default to max_iter=5 and tol=None. If tol is not None, max_iter defaults to max_iter=1000. From 0.21, default max_iter will be 1000, and default tol will be 1e-3.\n",
      "  \"and default tol will be 1e-3.\" % type(self), FutureWarning)\n"
     ]
    },
    {
     "name": "stdout",
     "output_type": "stream",
     "text": [
      "-- Epoch 1\n",
      "Norm: 50.85, NNZs: 53857, Bias: -0.037617, T: 600, Avg. loss: 8.988644\n",
      "Total training time: 0.01 seconds.\n",
      "-- Epoch 2\n",
      "Norm: 31.24, NNZs: 75316, Bias: -0.026281, T: 1200, Avg. loss: 1.328357\n",
      "Total training time: 0.03 seconds.\n",
      "-- Epoch 3\n",
      "Norm: 22.20, NNZs: 83507, Bias: -0.025703, T: 1800, Avg. loss: 0.245386\n",
      "Total training time: 0.04 seconds.\n",
      "-- Epoch 4\n",
      "Norm: 17.15, NNZs: 86600, Bias: -0.026794, T: 2400, Avg. loss: 0.046630\n",
      "Total training time: 0.05 seconds.\n",
      "-- Epoch 5\n",
      "Norm: 13.93, NNZs: 87830, Bias: -0.027251, T: 3000, Avg. loss: 0.013237\n",
      "Total training time: 0.07 seconds.\n"
     ]
    },
    {
     "name": "stderr",
     "output_type": "stream",
     "text": [
      "D:\\Anaconda\\lib\\site-packages\\sklearn\\linear_model\\stochastic_gradient.py:128: FutureWarning: max_iter and tol parameters have been added in <class 'sklearn.linear_model.stochastic_gradient.SGDClassifier'> in 0.19. If both are left unset, they default to max_iter=5 and tol=None. If tol is not None, max_iter defaults to max_iter=1000. From 0.21, default max_iter will be 1000, and default tol will be 1e-3.\n",
      "  \"and default tol will be 1e-3.\" % type(self), FutureWarning)\n"
     ]
    },
    {
     "name": "stdout",
     "output_type": "stream",
     "text": [
      "-- Epoch 1\n",
      "Norm: 11.73, NNZs: 71820, Bias: 0.040530, T: 600, Avg. loss: 3.149772\n",
      "Total training time: 0.00 seconds.\n",
      "-- Epoch 2\n",
      "Norm: 6.91, NNZs: 94993, Bias: 0.041498, T: 1200, Avg. loss: 0.412794\n",
      "Total training time: 0.02 seconds.\n",
      "-- Epoch 3\n",
      "Norm: 5.00, NNZs: 103407, Bias: 0.041203, T: 1800, Avg. loss: 0.081760\n",
      "Total training time: 0.03 seconds.\n",
      "-- Epoch 4\n",
      "Norm: 4.00, NNZs: 106623, Bias: 0.040746, T: 2400, Avg. loss: 0.041847\n",
      "Total training time: 0.05 seconds.\n",
      "-- Epoch 5\n",
      "Norm: 3.44, NNZs: 108799, Bias: 0.040797, T: 3000, Avg. loss: 0.030326\n",
      "Total training time: 0.06 seconds.\n"
     ]
    },
    {
     "name": "stderr",
     "output_type": "stream",
     "text": [
      "D:\\Anaconda\\lib\\site-packages\\sklearn\\linear_model\\stochastic_gradient.py:128: FutureWarning: max_iter and tol parameters have been added in <class 'sklearn.linear_model.stochastic_gradient.SGDClassifier'> in 0.19. If both are left unset, they default to max_iter=5 and tol=None. If tol is not None, max_iter defaults to max_iter=1000. From 0.21, default max_iter will be 1000, and default tol will be 1e-3.\n",
      "  \"and default tol will be 1e-3.\" % type(self), FutureWarning)\n"
     ]
    },
    {
     "name": "stdout",
     "output_type": "stream",
     "text": [
      "-- Epoch 1\n",
      "Norm: 11.55, NNZs: 67986, Bias: 0.031499, T: 600, Avg. loss: 3.160551\n",
      "Total training time: 0.01 seconds.\n",
      "-- Epoch 2\n",
      "Norm: 6.87, NNZs: 89192, Bias: 0.032395, T: 1200, Avg. loss: 0.416443\n",
      "Total training time: 0.03 seconds.\n",
      "-- Epoch 3\n",
      "Norm: 5.00, NNZs: 95830, Bias: 0.032962, T: 1800, Avg. loss: 0.093014\n",
      "Total training time: 0.04 seconds.\n",
      "-- Epoch 4\n",
      "Norm: 4.06, NNZs: 98850, Bias: 0.034606, T: 2400, Avg. loss: 0.049500\n",
      "Total training time: 0.06 seconds.\n",
      "-- Epoch 5\n",
      "Norm: 3.47, NNZs: 100336, Bias: 0.034477, T: 3000, Avg. loss: 0.028277\n",
      "Total training time: 0.07 seconds.\n"
     ]
    },
    {
     "name": "stderr",
     "output_type": "stream",
     "text": [
      "D:\\Anaconda\\lib\\site-packages\\sklearn\\linear_model\\stochastic_gradient.py:128: FutureWarning: max_iter and tol parameters have been added in <class 'sklearn.linear_model.stochastic_gradient.SGDClassifier'> in 0.19. If both are left unset, they default to max_iter=5 and tol=None. If tol is not None, max_iter defaults to max_iter=1000. From 0.21, default max_iter will be 1000, and default tol will be 1e-3.\n",
      "  \"and default tol will be 1e-3.\" % type(self), FutureWarning)\n"
     ]
    },
    {
     "name": "stdout",
     "output_type": "stream",
     "text": [
      "-- Epoch 1\n",
      "Norm: 11.21, NNZs: 60181, Bias: -0.029037, T: 600, Avg. loss: 2.759678\n",
      "Total training time: 0.01 seconds.\n",
      "-- Epoch 2\n",
      "Norm: 6.83, NNZs: 83868, Bias: -0.027168, T: 1200, Avg. loss: 0.465503\n",
      "Total training time: 0.02 seconds.\n",
      "-- Epoch 3\n",
      "Norm: 5.01, NNZs: 91544, Bias: -0.027334, T: 1800, Avg. loss: 0.077271\n",
      "Total training time: 0.04 seconds.\n",
      "-- Epoch 4\n",
      "Norm: 4.02, NNZs: 95326, Bias: -0.026110, T: 2400, Avg. loss: 0.039028\n",
      "Total training time: 0.05 seconds.\n",
      "-- Epoch 5\n",
      "Norm: 3.44, NNZs: 96933, Bias: -0.026465, T: 3000, Avg. loss: 0.030898\n",
      "Total training time: 0.07 seconds.\n"
     ]
    },
    {
     "name": "stderr",
     "output_type": "stream",
     "text": [
      "D:\\Anaconda\\lib\\site-packages\\sklearn\\linear_model\\stochastic_gradient.py:128: FutureWarning: max_iter and tol parameters have been added in <class 'sklearn.linear_model.stochastic_gradient.SGDClassifier'> in 0.19. If both are left unset, they default to max_iter=5 and tol=None. If tol is not None, max_iter defaults to max_iter=1000. From 0.21, default max_iter will be 1000, and default tol will be 1e-3.\n",
      "  \"and default tol will be 1e-3.\" % type(self), FutureWarning)\n"
     ]
    },
    {
     "name": "stdout",
     "output_type": "stream",
     "text": [
      "-- Epoch 1\n",
      "Norm: 5.99, NNZs: 76198, Bias: 0.025829, T: 600, Avg. loss: 1.907477\n",
      "Total training time: 0.01 seconds.\n",
      "-- Epoch 2\n",
      "Norm: 3.75, NNZs: 101798, Bias: 0.025413, T: 1200, Avg. loss: 0.331469\n",
      "Total training time: 0.02 seconds.\n",
      "-- Epoch 3\n",
      "Norm: 2.91, NNZs: 108989, Bias: 0.025570, T: 1800, Avg. loss: 0.115979\n",
      "Total training time: 0.04 seconds.\n",
      "-- Epoch 4\n",
      "Norm: 2.50, NNZs: 110142, Bias: 0.025874, T: 2400, Avg. loss: 0.070510\n",
      "Total training time: 0.05 seconds.\n",
      "-- Epoch 5\n",
      "Norm: 2.28, NNZs: 110663, Bias: 0.025599, T: 3000, Avg. loss: 0.063082\n",
      "Total training time: 0.06 seconds.\n"
     ]
    },
    {
     "name": "stderr",
     "output_type": "stream",
     "text": [
      "D:\\Anaconda\\lib\\site-packages\\sklearn\\linear_model\\stochastic_gradient.py:128: FutureWarning: max_iter and tol parameters have been added in <class 'sklearn.linear_model.stochastic_gradient.SGDClassifier'> in 0.19. If both are left unset, they default to max_iter=5 and tol=None. If tol is not None, max_iter defaults to max_iter=1000. From 0.21, default max_iter will be 1000, and default tol will be 1e-3.\n",
      "  \"and default tol will be 1e-3.\" % type(self), FutureWarning)\n"
     ]
    },
    {
     "name": "stdout",
     "output_type": "stream",
     "text": [
      "-- Epoch 1\n",
      "Norm: 6.09, NNZs: 72733, Bias: 0.025390, T: 600, Avg. loss: 2.106198\n",
      "Total training time: 0.02 seconds.\n",
      "-- Epoch 2\n",
      "Norm: 3.77, NNZs: 94811, Bias: 0.026383, T: 1200, Avg. loss: 0.329527\n",
      "Total training time: 0.03 seconds.\n",
      "-- Epoch 3\n",
      "Norm: 2.92, NNZs: 99644, Bias: 0.027813, T: 1800, Avg. loss: 0.119594\n",
      "Total training time: 0.05 seconds.\n",
      "-- Epoch 4\n",
      "Norm: 2.53, NNZs: 102648, Bias: 0.028099, T: 2400, Avg. loss: 0.088039\n",
      "Total training time: 0.06 seconds.\n",
      "-- Epoch 5\n",
      "Norm: 2.32, NNZs: 103535, Bias: 0.028281, T: 3000, Avg. loss: 0.066430\n",
      "Total training time: 0.07 seconds.\n"
     ]
    },
    {
     "name": "stderr",
     "output_type": "stream",
     "text": [
      "D:\\Anaconda\\lib\\site-packages\\sklearn\\linear_model\\stochastic_gradient.py:128: FutureWarning: max_iter and tol parameters have been added in <class 'sklearn.linear_model.stochastic_gradient.SGDClassifier'> in 0.19. If both are left unset, they default to max_iter=5 and tol=None. If tol is not None, max_iter defaults to max_iter=1000. From 0.21, default max_iter will be 1000, and default tol will be 1e-3.\n",
      "  \"and default tol will be 1e-3.\" % type(self), FutureWarning)\n"
     ]
    },
    {
     "name": "stdout",
     "output_type": "stream",
     "text": [
      "-- Epoch 1\n",
      "Norm: 6.11, NNZs: 68784, Bias: -0.012391, T: 600, Avg. loss: 1.930140\n",
      "Total training time: 0.01 seconds.\n",
      "-- Epoch 2\n",
      "Norm: 3.73, NNZs: 90093, Bias: -0.012093, T: 1200, Avg. loss: 0.310860\n",
      "Total training time: 0.03 seconds.\n",
      "-- Epoch 3\n",
      "Norm: 2.93, NNZs: 96917, Bias: -0.010879, T: 1800, Avg. loss: 0.118377\n",
      "Total training time: 0.04 seconds.\n",
      "-- Epoch 4\n",
      "Norm: 2.51, NNZs: 97825, Bias: -0.010587, T: 2400, Avg. loss: 0.074631\n",
      "Total training time: 0.05 seconds.\n",
      "-- Epoch 5\n",
      "Norm: 2.31, NNZs: 98022, Bias: -0.010282, T: 3000, Avg. loss: 0.062946\n",
      "Total training time: 0.07 seconds.\n"
     ]
    },
    {
     "name": "stderr",
     "output_type": "stream",
     "text": [
      "D:\\Anaconda\\lib\\site-packages\\sklearn\\linear_model\\stochastic_gradient.py:128: FutureWarning: max_iter and tol parameters have been added in <class 'sklearn.linear_model.stochastic_gradient.SGDClassifier'> in 0.19. If both are left unset, they default to max_iter=5 and tol=None. If tol is not None, max_iter defaults to max_iter=1000. From 0.21, default max_iter will be 1000, and default tol will be 1e-3.\n",
      "  \"and default tol will be 1e-3.\" % type(self), FutureWarning)\n"
     ]
    },
    {
     "name": "stdout",
     "output_type": "stream",
     "text": [
      "-- Epoch 1\n",
      "Norm: 1.47, NNZs: 100461, Bias: 0.012414, T: 600, Avg. loss: 1.215260\n",
      "Total training time: 0.01 seconds.\n",
      "-- Epoch 2\n",
      "Norm: 1.15, NNZs: 111761, Bias: 0.012564, T: 1200, Avg. loss: 0.485309\n",
      "Total training time: 0.02 seconds.\n",
      "-- Epoch 3\n",
      "Norm: 1.09, NNZs: 112168, Bias: 0.012531, T: 1800, Avg. loss: 0.413033\n",
      "Total training time: 0.04 seconds.\n",
      "-- Epoch 4\n",
      "Norm: 1.08, NNZs: 112186, Bias: 0.012447, T: 2400, Avg. loss: 0.376772\n",
      "Total training time: 0.05 seconds.\n",
      "-- Epoch 5\n",
      "Norm: 1.06, NNZs: 112193, Bias: 0.012486, T: 3000, Avg. loss: 0.354673\n",
      "Total training time: 0.06 seconds.\n"
     ]
    },
    {
     "name": "stderr",
     "output_type": "stream",
     "text": [
      "D:\\Anaconda\\lib\\site-packages\\sklearn\\linear_model\\stochastic_gradient.py:128: FutureWarning: max_iter and tol parameters have been added in <class 'sklearn.linear_model.stochastic_gradient.SGDClassifier'> in 0.19. If both are left unset, they default to max_iter=5 and tol=None. If tol is not None, max_iter defaults to max_iter=1000. From 0.21, default max_iter will be 1000, and default tol will be 1e-3.\n",
      "  \"and default tol will be 1e-3.\" % type(self), FutureWarning)\n"
     ]
    },
    {
     "name": "stdout",
     "output_type": "stream",
     "text": [
      "-- Epoch 1\n",
      "Norm: 1.40, NNZs: 88966, Bias: 0.013344, T: 600, Avg. loss: 1.187193\n",
      "Total training time: 0.01 seconds.\n",
      "-- Epoch 2\n",
      "Norm: 1.13, NNZs: 103822, Bias: 0.013560, T: 1200, Avg. loss: 0.526635\n",
      "Total training time: 0.03 seconds.\n",
      "-- Epoch 3\n",
      "Norm: 1.08, NNZs: 104833, Bias: 0.013593, T: 1800, Avg. loss: 0.434142\n",
      "Total training time: 0.04 seconds.\n",
      "-- Epoch 4\n",
      "Norm: 1.05, NNZs: 104853, Bias: 0.013535, T: 2400, Avg. loss: 0.393224\n",
      "Total training time: 0.05 seconds.\n",
      "-- Epoch 5\n",
      "Norm: 1.04, NNZs: 104869, Bias: 0.013568, T: 3000, Avg. loss: 0.380246\n",
      "Total training time: 0.07 seconds.\n"
     ]
    },
    {
     "name": "stderr",
     "output_type": "stream",
     "text": [
      "D:\\Anaconda\\lib\\site-packages\\sklearn\\linear_model\\stochastic_gradient.py:128: FutureWarning: max_iter and tol parameters have been added in <class 'sklearn.linear_model.stochastic_gradient.SGDClassifier'> in 0.19. If both are left unset, they default to max_iter=5 and tol=None. If tol is not None, max_iter defaults to max_iter=1000. From 0.21, default max_iter will be 1000, and default tol will be 1e-3.\n",
      "  \"and default tol will be 1e-3.\" % type(self), FutureWarning)\n"
     ]
    },
    {
     "name": "stdout",
     "output_type": "stream",
     "text": [
      "-- Epoch 1\n",
      "Norm: 1.42, NNZs: 84546, Bias: 0.003056, T: 600, Avg. loss: 1.102052\n",
      "Total training time: 0.01 seconds.\n",
      "-- Epoch 2\n",
      "Norm: 1.12, NNZs: 99918, Bias: 0.002998, T: 1200, Avg. loss: 0.514884\n",
      "Total training time: 0.02 seconds.\n",
      "-- Epoch 3\n",
      "Norm: 1.08, NNZs: 101444, Bias: 0.003147, T: 1800, Avg. loss: 0.428994\n",
      "Total training time: 0.03 seconds.\n",
      "-- Epoch 4\n",
      "Norm: 1.05, NNZs: 101457, Bias: 0.003237, T: 2400, Avg. loss: 0.393398\n",
      "Total training time: 0.05 seconds.\n",
      "-- Epoch 5\n",
      "Norm: 1.04, NNZs: 101477, Bias: 0.003258, T: 3000, Avg. loss: 0.372245\n",
      "Total training time: 0.06 seconds.\n"
     ]
    },
    {
     "name": "stderr",
     "output_type": "stream",
     "text": [
      "D:\\Anaconda\\lib\\site-packages\\sklearn\\linear_model\\stochastic_gradient.py:128: FutureWarning: max_iter and tol parameters have been added in <class 'sklearn.linear_model.stochastic_gradient.SGDClassifier'> in 0.19. If both are left unset, they default to max_iter=5 and tol=None. If tol is not None, max_iter defaults to max_iter=1000. From 0.21, default max_iter will be 1000, and default tol will be 1e-3.\n",
      "  \"and default tol will be 1e-3.\" % type(self), FutureWarning)\n"
     ]
    },
    {
     "name": "stdout",
     "output_type": "stream",
     "text": [
      "-- Epoch 1\n",
      "Norm: 2048.55, NNZs: 85318, Bias: -0.338045, T: 900, Avg. loss: 169.336104\n",
      "Total training time: 0.01 seconds.\n",
      "-- Epoch 2\n",
      "Norm: 1644.15, NNZs: 115054, Bias: 0.034803, T: 1800, Avg. loss: 39.867666\n",
      "Total training time: 0.03 seconds.\n",
      "-- Epoch 3\n",
      "Norm: 1295.61, NNZs: 123110, Bias: 0.395884, T: 2700, Avg. loss: 4.710805\n",
      "Total training time: 0.04 seconds.\n",
      "-- Epoch 4\n",
      "Norm: 1066.70, NNZs: 127618, Bias: 0.430945, T: 3600, Avg. loss: 2.102310\n",
      "Total training time: 0.06 seconds.\n",
      "-- Epoch 5\n",
      "Norm: 906.17, NNZs: 130704, Bias: 0.429860, T: 4500, Avg. loss: 1.029356\n",
      "Total training time: 0.07 seconds.\n",
      "Wall time: 1.9 s\n"
     ]
    },
    {
     "data": {
      "text/plain": [
       "GridSearchCV(cv=None, error_score='raise',\n",
       "       estimator=SGDClassifier(alpha=0.0001, average=False, class_weight=None, epsilon=0.1,\n",
       "       eta0=0.0, fit_intercept=True, l1_ratio=0.15,\n",
       "       learning_rate='optimal', loss='hinge', max_iter=None, n_iter=None,\n",
       "       n_jobs=1, penalty='l2', power_t=0.5, random_state=2904,\n",
       "       shuffle=True, tol=None, verbose=5, warm_start=False),\n",
       "       fit_params=None, iid=True, n_jobs=1,\n",
       "       param_grid={'alpha': [0.0001, 0.005, 0.01, 0.05, 0.1, 0.5]},\n",
       "       pre_dispatch='2*n_jobs', refit=True, return_train_score='warn',\n",
       "       scoring='accuracy', verbose=0)"
      ]
     },
     "execution_count": 572,
     "metadata": {},
     "output_type": "execute_result"
    }
   ],
   "source": [
    "%%time\n",
    "clf.fit(X_train_counts, y_train)"
   ]
  },
  {
   "cell_type": "code",
   "execution_count": 573,
   "metadata": {
    "collapsed": false
   },
   "outputs": [
    {
     "data": {
      "text/plain": [
       "(0.51222222222222225, {'alpha': 0.0001})"
      ]
     },
     "execution_count": 573,
     "metadata": {},
     "output_type": "execute_result"
    }
   ],
   "source": [
    "clf.best_score_, clf.best_params_"
   ]
  },
  {
   "cell_type": "code",
   "execution_count": 574,
   "metadata": {
    "collapsed": false
   },
   "outputs": [
    {
     "name": "stdout",
     "output_type": "stream",
     "text": [
      "Precision:   0.52\n",
      "Recall:   0.53\n",
      "F1-measure:   0.52\n",
      "Accuracy:   0.53\n",
      "             precision    recall  f1-score   support\n",
      "\n",
      "          0       0.57      0.55      0.56       140\n",
      "          1       0.48      0.50      0.49       118\n",
      "\n",
      "avg / total       0.53      0.53      0.53       258\n",
      "\n"
     ]
    },
    {
     "data": {
      "image/png": "[encoded data removed]",
      "text/plain": [
       "<matplotlib.figure.Figure at 0x59c45e48>"
      ]
     },
     "metadata": {},
     "output_type": "display_data"
    }
   ],
   "source": [
    "print(\"Precision: {0:6.2f}\".format(precision_score(y_test, predictions, average='macro')))\n",
    "print(\"Recall: {0:6.2f}\".format(recall_score(y_test, predictions, average='macro')))\n",
    "print(\"F1-measure: {0:6.2f}\".format(f1_score(y_test, predictions, average='macro')))\n",
    "print(\"Accuracy: {0:6.2f}\".format(accuracy_score(y_test, predictions)))\n",
    "print(classification_report(y_test, predictions))\n",
    "labels = clf.classes_\n",
    "sns.heatmap(data=confusion_matrix(y_test, predictions), annot=True, fmt=\"d\", cbar=False, xticklabels=labels, yticklabels=labels)\n",
    "plt.title(\"Confusion matrix\")\n",
    "plt.show()"
   ]
  },
  {
   "cell_type": "code",
   "execution_count": 575,
   "metadata": {
    "collapsed": true
   },
   "outputs": [],
   "source": [
    "clf = GridSearchCV(estimator=classifier, param_grid=params, scoring='accuracy', verbose=5)"
   ]
  },
  {
   "cell_type": "code",
   "execution_count": 576,
   "metadata": {
    "collapsed": false
   },
   "outputs": [
    {
     "name": "stdout",
     "output_type": "stream",
     "text": [
      "Fitting 3 folds for each of 6 candidates, totalling 18 fits\n",
      "[CV] alpha=0.0001 ....................................................\n"
     ]
    },
    {
     "name": "stderr",
     "output_type": "stream",
     "text": [
      "D:\\Anaconda\\lib\\site-packages\\sklearn\\linear_model\\stochastic_gradient.py:128: FutureWarning: max_iter and tol parameters have been added in <class 'sklearn.linear_model.stochastic_gradient.SGDClassifier'> in 0.19. If both are left unset, they default to max_iter=5 and tol=None. If tol is not None, max_iter defaults to max_iter=1000. From 0.21, default max_iter will be 1000, and default tol will be 1e-3.\n",
      "  \"and default tol will be 1e-3.\" % type(self), FutureWarning)\n"
     ]
    },
    {
     "name": "stdout",
     "output_type": "stream",
     "text": [
      "-- Epoch 1\n",
      "Norm: 17.84, NNZs: 30, Bias: -6.272780, T: 600, Avg. loss: 3.302744\n",
      "Total training time: 0.02 seconds.\n",
      "-- Epoch 2\n",
      "Norm: 18.10, NNZs: 30, Bias: 0.059777, T: 1200, Avg. loss: 2.314547\n",
      "Total training time: 0.04 seconds.\n",
      "-- Epoch 3\n",
      "Norm: 19.47, NNZs: 30, Bias: 3.704730, T: 1800, Avg. loss: 1.871690\n",
      "Total training time: 0.06 seconds.\n",
      "-- Epoch 4\n",
      "Norm: 20.37, NNZs: 30, Bias: 0.206024, T: 2400, Avg. loss: 1.664928\n",
      "Total training time: 0.07 seconds.\n",
      "-- Epoch 5\n",
      "Norm: 18.71, NNZs: 30, Bias: 0.235639, T: 3000, Avg. loss: 1.480547\n",
      "Total training time: 0.08 seconds.\n",
      "[CV] ......................... alpha=0.0001, score=0.52, total=   0.0s\n"
     ]
    },
    {
     "name": "stderr",
     "output_type": "stream",
     "text": [
      "[Parallel(n_jobs=1)]: Done   1 out of   1 | elapsed:    0.0s remaining:    0.0s\n"
     ]
    },
    {
     "name": "stdout",
     "output_type": "stream",
     "text": [
      "[CV] alpha=0.0001 ....................................................\n"
     ]
    },
    {
     "name": "stderr",
     "output_type": "stream",
     "text": [
      "D:\\Anaconda\\lib\\site-packages\\sklearn\\linear_model\\stochastic_gradient.py:128: FutureWarning: max_iter and tol parameters have been added in <class 'sklearn.linear_model.stochastic_gradient.SGDClassifier'> in 0.19. If both are left unset, they default to max_iter=5 and tol=None. If tol is not None, max_iter defaults to max_iter=1000. From 0.21, default max_iter will be 1000, and default tol will be 1e-3.\n",
      "  \"and default tol will be 1e-3.\" % type(self), FutureWarning)\n"
     ]
    },
    {
     "name": "stdout",
     "output_type": "stream",
     "text": [
      "-- Epoch 1\n",
      "Norm: 20.29, NNZs: 30, Bias: -6.175947, T: 600, Avg. loss: 3.175928\n",
      "Total training time: 0.01 seconds.\n",
      "-- Epoch 2\n",
      "Norm: 20.88, NNZs: 30, Bias: -4.467091, T: 1200, Avg. loss: 2.287171\n",
      "Total training time: 0.02 seconds.\n",
      "-- Epoch 3\n",
      "Norm: 23.39, NNZs: 30, Bias: 3.643293, T: 1800, Avg. loss: 1.940050\n",
      "Total training time: 0.03 seconds.\n",
      "-- Epoch 4\n",
      "Norm: 23.10, NNZs: 30, Bias: 3.047672, T: 2400, Avg. loss: 1.662640\n",
      "Total training time: 0.04 seconds.\n",
      "-- Epoch 5\n",
      "Norm: 21.72, NNZs: 30, Bias: -2.399268, T: 3000, Avg. loss: 1.447135\n",
      "Total training time: 0.05 seconds.\n",
      "[CV] ........... alpha=0.0001, score=0.5033333333333333, total=   0.0s\n"
     ]
    },
    {
     "name": "stderr",
     "output_type": "stream",
     "text": [
      "[Parallel(n_jobs=1)]: Done   2 out of   2 | elapsed:    0.1s remaining:    0.0s\n"
     ]
    },
    {
     "name": "stdout",
     "output_type": "stream",
     "text": [
      "[CV] alpha=0.0001 ....................................................\n"
     ]
    },
    {
     "name": "stderr",
     "output_type": "stream",
     "text": [
      "D:\\Anaconda\\lib\\site-packages\\sklearn\\linear_model\\stochastic_gradient.py:128: FutureWarning: max_iter and tol parameters have been added in <class 'sklearn.linear_model.stochastic_gradient.SGDClassifier'> in 0.19. If both are left unset, they default to max_iter=5 and tol=None. If tol is not None, max_iter defaults to max_iter=1000. From 0.21, default max_iter will be 1000, and default tol will be 1e-3.\n",
      "  \"and default tol will be 1e-3.\" % type(self), FutureWarning)\n"
     ]
    },
    {
     "name": "stdout",
     "output_type": "stream",
     "text": [
      "-- Epoch 1\n",
      "Norm: 16.41, NNZs: 30, Bias: 6.234085, T: 600, Avg. loss: 3.248832\n",
      "Total training time: 0.00 seconds.\n",
      "-- Epoch 2\n",
      "Norm: 18.40, NNZs: 30, Bias: -4.513182, T: 1200, Avg. loss: 2.492977\n",
      "Total training time: 0.01 seconds.\n",
      "-- Epoch 3\n",
      "Norm: 20.49, NNZs: 30, Bias: 0.086791, T: 1800, Avg. loss: 1.926461\n",
      "Total training time: 0.02 seconds.\n",
      "-- Epoch 4\n",
      "Norm: 20.47, NNZs: 30, Bias: 3.075843, T: 2400, Avg. loss: 1.633112\n",
      "Total training time: 0.04 seconds.\n",
      "-- Epoch 5\n",
      "Norm: 19.43, NNZs: 30, Bias: 0.174106, T: 3000, Avg. loss: 1.589718\n",
      "Total training time: 0.05 seconds.\n",
      "[CV] .......... alpha=0.0001, score=0.48333333333333334, total=   0.0s\n"
     ]
    },
    {
     "name": "stderr",
     "output_type": "stream",
     "text": [
      "[Parallel(n_jobs=1)]: Done   3 out of   3 | elapsed:    0.2s remaining:    0.0s\n"
     ]
    },
    {
     "name": "stdout",
     "output_type": "stream",
     "text": [
      "[CV] alpha=0.005 .....................................................\n"
     ]
    },
    {
     "name": "stderr",
     "output_type": "stream",
     "text": [
      "D:\\Anaconda\\lib\\site-packages\\sklearn\\linear_model\\stochastic_gradient.py:128: FutureWarning: max_iter and tol parameters have been added in <class 'sklearn.linear_model.stochastic_gradient.SGDClassifier'> in 0.19. If both are left unset, they default to max_iter=5 and tol=None. If tol is not None, max_iter defaults to max_iter=1000. From 0.21, default max_iter will be 1000, and default tol will be 1e-3.\n",
      "  \"and default tol will be 1e-3.\" % type(self), FutureWarning)\n"
     ]
    },
    {
     "name": "stdout",
     "output_type": "stream",
     "text": [
      "-- Epoch 1\n",
      "Norm: 1.18, NNZs: 30, Bias: -0.318224, T: 600, Avg. loss: 1.157170\n",
      "Total training time: 0.01 seconds.\n",
      "-- Epoch 2\n",
      "Norm: 1.12, NNZs: 30, Bias: 0.310880, T: 1200, Avg. loss: 0.981817\n",
      "Total training time: 0.02 seconds.\n",
      "-- Epoch 3\n",
      "Norm: 1.24, NNZs: 30, Bias: 0.159338, T: 1800, Avg. loss: 1.032429\n",
      "Total training time: 0.03 seconds.\n",
      "-- Epoch 4\n",
      "Norm: 1.20, NNZs: 30, Bias: 0.722806, T: 2400, Avg. loss: 0.970712\n",
      "Total training time: 0.04 seconds.\n",
      "-- Epoch 5\n",
      "Norm: 1.24, NNZs: 30, Bias: -0.232153, T: 3000, Avg. loss: 1.016279\n",
      "Total training time: 0.05 seconds.\n",
      "[CV] ............ alpha=0.005, score=0.5033333333333333, total=   0.0s\n"
     ]
    },
    {
     "name": "stderr",
     "output_type": "stream",
     "text": [
      "[Parallel(n_jobs=1)]: Done   4 out of   4 | elapsed:    0.2s remaining:    0.0s\n"
     ]
    },
    {
     "name": "stdout",
     "output_type": "stream",
     "text": [
      "[CV] alpha=0.005 .....................................................\n"
     ]
    },
    {
     "name": "stderr",
     "output_type": "stream",
     "text": [
      "D:\\Anaconda\\lib\\site-packages\\sklearn\\linear_model\\stochastic_gradient.py:128: FutureWarning: max_iter and tol parameters have been added in <class 'sklearn.linear_model.stochastic_gradient.SGDClassifier'> in 0.19. If both are left unset, they default to max_iter=5 and tol=None. If tol is not None, max_iter defaults to max_iter=1000. From 0.21, default max_iter will be 1000, and default tol will be 1e-3.\n",
      "  \"and default tol will be 1e-3.\" % type(self), FutureWarning)\n"
     ]
    },
    {
     "name": "stdout",
     "output_type": "stream",
     "text": [
      "-- Epoch 1\n",
      "Norm: 1.24, NNZs: 30, Bias: -1.215583, T: 600, Avg. loss: 1.122928\n",
      "Total training time: 0.00 seconds.\n",
      "-- Epoch 2\n",
      "Norm: 1.25, NNZs: 30, Bias: 0.202905, T: 1200, Avg. loss: 0.971798\n",
      "Total training time: 0.01 seconds.\n",
      "-- Epoch 3\n",
      "Norm: 1.41, NNZs: 30, Bias: 0.316151, T: 1800, Avg. loss: 1.014610\n",
      "Total training time: 0.02 seconds.\n",
      "-- Epoch 4\n",
      "Norm: 1.44, NNZs: 30, Bias: 0.487940, T: 2400, Avg. loss: 0.997067\n",
      "Total training time: 0.04 seconds.\n",
      "-- Epoch 5\n",
      "Norm: 1.48, NNZs: 30, Bias: -0.240309, T: 3000, Avg. loss: 0.982476\n",
      "Total training time: 0.05 seconds.\n",
      "[CV] ............ alpha=0.005, score=0.5033333333333333, total=   0.0s\n",
      "[CV] alpha=0.005 .....................................................\n"
     ]
    },
    {
     "name": "stderr",
     "output_type": "stream",
     "text": [
      "D:\\Anaconda\\lib\\site-packages\\sklearn\\linear_model\\stochastic_gradient.py:128: FutureWarning: max_iter and tol parameters have been added in <class 'sklearn.linear_model.stochastic_gradient.SGDClassifier'> in 0.19. If both are left unset, they default to max_iter=5 and tol=None. If tol is not None, max_iter defaults to max_iter=1000. From 0.21, default max_iter will be 1000, and default tol will be 1e-3.\n",
      "  \"and default tol will be 1e-3.\" % type(self), FutureWarning)\n"
     ]
    },
    {
     "name": "stdout",
     "output_type": "stream",
     "text": [
      "-- Epoch 1\n",
      "Norm: 1.12, NNZs: 30, Bias: 0.372174, T: 600, Avg. loss: 1.118581\n",
      "Total training time: 0.00 seconds.\n",
      "-- Epoch 2\n",
      "Norm: 1.17, NNZs: 30, Bias: -0.602534, T: 1200, Avg. loss: 1.035192\n",
      "Total training time: 0.01 seconds.\n",
      "-- Epoch 3\n",
      "Norm: 1.21, NNZs: 30, Bias: -0.182868, T: 1800, Avg. loss: 1.010796\n",
      "Total training time: 0.02 seconds.\n",
      "-- Epoch 4\n",
      "Norm: 1.23, NNZs: 30, Bias: 0.055237, T: 2400, Avg. loss: 0.990665\n",
      "Total training time: 0.04 seconds.\n",
      "-- Epoch 5\n",
      "Norm: 1.27, NNZs: 30, Bias: -0.553236, T: 3000, Avg. loss: 1.016087\n",
      "Total training time: 0.05 seconds.\n",
      "[CV] ............ alpha=0.005, score=0.5033333333333333, total=   0.0s\n",
      "[CV] alpha=0.01 ......................................................\n"
     ]
    },
    {
     "name": "stderr",
     "output_type": "stream",
     "text": [
      "D:\\Anaconda\\lib\\site-packages\\sklearn\\linear_model\\stochastic_gradient.py:128: FutureWarning: max_iter and tol parameters have been added in <class 'sklearn.linear_model.stochastic_gradient.SGDClassifier'> in 0.19. If both are left unset, they default to max_iter=5 and tol=None. If tol is not None, max_iter defaults to max_iter=1000. From 0.21, default max_iter will be 1000, and default tol will be 1e-3.\n",
      "  \"and default tol will be 1e-3.\" % type(self), FutureWarning)\n"
     ]
    },
    {
     "name": "stdout",
     "output_type": "stream",
     "text": [
      "-- Epoch 1\n",
      "Norm: 0.67, NNZs: 30, Bias: 0.248056, T: 600, Avg. loss: 1.102257\n",
      "Total training time: 0.01 seconds.\n",
      "-- Epoch 2\n",
      "Norm: 0.62, NNZs: 30, Bias: 0.659457, T: 1200, Avg. loss: 0.963460\n",
      "Total training time: 0.02 seconds.\n",
      "-- Epoch 3\n",
      "Norm: 0.66, NNZs: 30, Bias: -0.065544, T: 1800, Avg. loss: 1.024806\n",
      "Total training time: 0.03 seconds.\n",
      "-- Epoch 4\n",
      "Norm: 0.66, NNZs: 30, Bias: 0.517926, T: 2400, Avg. loss: 0.984350\n",
      "Total training time: 0.04 seconds.\n",
      "-- Epoch 5\n",
      "Norm: 0.67, NNZs: 30, Bias: 0.311076, T: 3000, Avg. loss: 1.015651\n",
      "Total training time: 0.05 seconds.\n",
      "[CV] ............ alpha=0.01, score=0.49666666666666665, total=   0.0s\n",
      "[CV] alpha=0.01 ......................................................\n"
     ]
    },
    {
     "name": "stderr",
     "output_type": "stream",
     "text": [
      "D:\\Anaconda\\lib\\site-packages\\sklearn\\linear_model\\stochastic_gradient.py:128: FutureWarning: max_iter and tol parameters have been added in <class 'sklearn.linear_model.stochastic_gradient.SGDClassifier'> in 0.19. If both are left unset, they default to max_iter=5 and tol=None. If tol is not None, max_iter defaults to max_iter=1000. From 0.21, default max_iter will be 1000, and default tol will be 1e-3.\n",
      "  \"and default tol will be 1e-3.\" % type(self), FutureWarning)\n"
     ]
    },
    {
     "name": "stdout",
     "output_type": "stream",
     "text": [
      "-- Epoch 1\n",
      "Norm: 0.82, NNZs: 30, Bias: -0.767942, T: 600, Avg. loss: 1.067744\n",
      "Total training time: 0.01 seconds.\n",
      "-- Epoch 2\n",
      "Norm: 0.78, NNZs: 30, Bias: 0.592572, T: 1200, Avg. loss: 0.987215\n",
      "Total training time: 0.03 seconds.\n",
      "-- Epoch 3\n",
      "Norm: 0.82, NNZs: 30, Bias: -0.335256, T: 1800, Avg. loss: 1.014073\n",
      "Total training time: 0.04 seconds.\n",
      "-- Epoch 4\n",
      "Norm: 0.83, NNZs: 30, Bias: 0.109135, T: 2400, Avg. loss: 0.995141\n",
      "Total training time: 0.05 seconds.\n",
      "-- Epoch 5\n",
      "Norm: 0.85, NNZs: 30, Bias: -0.032087, T: 3000, Avg. loss: 1.010465\n",
      "Total training time: 0.06 seconds.\n",
      "[CV] ............ alpha=0.01, score=0.49333333333333335, total=   0.0s\n",
      "[CV] alpha=0.01 ......................................................\n"
     ]
    },
    {
     "name": "stderr",
     "output_type": "stream",
     "text": [
      "D:\\Anaconda\\lib\\site-packages\\sklearn\\linear_model\\stochastic_gradient.py:128: FutureWarning: max_iter and tol parameters have been added in <class 'sklearn.linear_model.stochastic_gradient.SGDClassifier'> in 0.19. If both are left unset, they default to max_iter=5 and tol=None. If tol is not None, max_iter defaults to max_iter=1000. From 0.21, default max_iter will be 1000, and default tol will be 1e-3.\n",
      "  \"and default tol will be 1e-3.\" % type(self), FutureWarning)\n"
     ]
    },
    {
     "name": "stdout",
     "output_type": "stream",
     "text": [
      "-- Epoch 1\n",
      "Norm: 0.68, NNZs: 30, Bias: 0.038294, T: 600, Avg. loss: 1.048034\n",
      "Total training time: 0.01 seconds.\n",
      "-- Epoch 2\n",
      "Norm: 0.67, NNZs: 30, Bias: -0.503024, T: 1200, Avg. loss: 1.019848\n",
      "Total training time: 0.02 seconds.\n",
      "-- Epoch 3\n",
      "Norm: 0.70, NNZs: 30, Bias: -0.521245, T: 1800, Avg. loss: 1.027841\n",
      "Total training time: 0.03 seconds.\n",
      "-- Epoch 4\n",
      "Norm: 0.70, NNZs: 30, Bias: -0.111353, T: 2400, Avg. loss: 1.004980\n",
      "Total training time: 0.04 seconds.\n",
      "-- Epoch 5\n",
      "Norm: 0.71, NNZs: 30, Bias: -0.177757, T: 3000, Avg. loss: 1.013908\n",
      "Total training time: 0.05 seconds.\n",
      "[CV] ............. alpha=0.01, score=0.5033333333333333, total=   0.0s\n",
      "[CV] alpha=0.05 ......................................................\n"
     ]
    },
    {
     "name": "stderr",
     "output_type": "stream",
     "text": [
      "D:\\Anaconda\\lib\\site-packages\\sklearn\\linear_model\\stochastic_gradient.py:128: FutureWarning: max_iter and tol parameters have been added in <class 'sklearn.linear_model.stochastic_gradient.SGDClassifier'> in 0.19. If both are left unset, they default to max_iter=5 and tol=None. If tol is not None, max_iter defaults to max_iter=1000. From 0.21, default max_iter will be 1000, and default tol will be 1e-3.\n",
      "  \"and default tol will be 1e-3.\" % type(self), FutureWarning)\n"
     ]
    },
    {
     "name": "stdout",
     "output_type": "stream",
     "text": [
      "-- Epoch 1\n",
      "Norm: 0.15, NNZs: 30, Bias: -0.042534, T: 600, Avg. loss: 1.031821\n",
      "Total training time: 0.01 seconds.\n",
      "-- Epoch 2\n",
      "Norm: 0.15, NNZs: 30, Bias: -0.147930, T: 1200, Avg. loss: 1.011991\n",
      "Total training time: 0.02 seconds.\n",
      "-- Epoch 3\n",
      "Norm: 0.15, NNZs: 30, Bias: -0.197858, T: 1800, Avg. loss: 1.004912\n",
      "Total training time: 0.03 seconds.\n",
      "-- Epoch 4\n",
      "Norm: 0.15, NNZs: 30, Bias: -0.274145, T: 2400, Avg. loss: 1.002967\n",
      "Total training time: 0.04 seconds.\n",
      "-- Epoch 5\n",
      "Norm: 0.15, NNZs: 30, Bias: -0.301132, T: 3000, Avg. loss: 1.000934\n",
      "Total training time: 0.05 seconds.\n",
      "[CV] ............. alpha=0.05, score=0.5033333333333333, total=   0.0s\n",
      "[CV] alpha=0.05 ......................................................\n"
     ]
    },
    {
     "name": "stderr",
     "output_type": "stream",
     "text": [
      "D:\\Anaconda\\lib\\site-packages\\sklearn\\linear_model\\stochastic_gradient.py:128: FutureWarning: max_iter and tol parameters have been added in <class 'sklearn.linear_model.stochastic_gradient.SGDClassifier'> in 0.19. If both are left unset, they default to max_iter=5 and tol=None. If tol is not None, max_iter defaults to max_iter=1000. From 0.21, default max_iter will be 1000, and default tol will be 1e-3.\n",
      "  \"and default tol will be 1e-3.\" % type(self), FutureWarning)\n"
     ]
    },
    {
     "name": "stdout",
     "output_type": "stream",
     "text": [
      "-- Epoch 1\n",
      "Norm: 0.18, NNZs: 30, Bias: -0.015212, T: 600, Avg. loss: 1.034258\n",
      "Total training time: 0.00 seconds.\n",
      "-- Epoch 2\n",
      "Norm: 0.19, NNZs: 30, Bias: -0.237119, T: 1200, Avg. loss: 1.010586\n",
      "Total training time: 0.01 seconds.\n",
      "-- Epoch 3\n",
      "Norm: 0.19, NNZs: 30, Bias: -0.296599, T: 1800, Avg. loss: 1.003703\n",
      "Total training time: 0.02 seconds.\n",
      "-- Epoch 4\n",
      "Norm: 0.19, NNZs: 30, Bias: -0.362522, T: 2400, Avg. loss: 1.001314\n",
      "Total training time: 0.04 seconds.\n",
      "-- Epoch 5\n",
      "Norm: 0.19, NNZs: 30, Bias: -0.382891, T: 3000, Avg. loss: 0.999675\n",
      "Total training time: 0.05 seconds.\n",
      "[CV] ............. alpha=0.05, score=0.5033333333333333, total=   0.0s\n",
      "[CV] alpha=0.05 ......................................................\n"
     ]
    },
    {
     "name": "stderr",
     "output_type": "stream",
     "text": [
      "D:\\Anaconda\\lib\\site-packages\\sklearn\\linear_model\\stochastic_gradient.py:128: FutureWarning: max_iter and tol parameters have been added in <class 'sklearn.linear_model.stochastic_gradient.SGDClassifier'> in 0.19. If both are left unset, they default to max_iter=5 and tol=None. If tol is not None, max_iter defaults to max_iter=1000. From 0.21, default max_iter will be 1000, and default tol will be 1e-3.\n",
      "  \"and default tol will be 1e-3.\" % type(self), FutureWarning)\n"
     ]
    },
    {
     "name": "stdout",
     "output_type": "stream",
     "text": [
      "-- Epoch 1\n",
      "Norm: 0.16, NNZs: 30, Bias: -0.771956, T: 600, Avg. loss: 1.004913\n",
      "Total training time: 0.01 seconds.\n",
      "-- Epoch 2\n",
      "Norm: 0.15, NNZs: 30, Bias: -0.683260, T: 1200, Avg. loss: 1.003426\n",
      "Total training time: 0.02 seconds.\n",
      "-- Epoch 3\n",
      "Norm: 0.15, NNZs: 30, Bias: -0.702782, T: 1800, Avg. loss: 1.001735\n",
      "Total training time: 0.03 seconds.\n",
      "-- Epoch 4\n",
      "Norm: 0.15, NNZs: 30, Bias: -0.744239, T: 2400, Avg. loss: 0.999201\n",
      "Total training time: 0.04 seconds.\n",
      "-- Epoch 5\n",
      "Norm: 0.15, NNZs: 30, Bias: -0.757491, T: 3000, Avg. loss: 0.997896\n",
      "Total training time: 0.05 seconds.\n",
      "[CV] ............. alpha=0.05, score=0.5033333333333333, total=   0.0s\n",
      "[CV] alpha=0.1 .......................................................\n"
     ]
    },
    {
     "name": "stderr",
     "output_type": "stream",
     "text": [
      "D:\\Anaconda\\lib\\site-packages\\sklearn\\linear_model\\stochastic_gradient.py:128: FutureWarning: max_iter and tol parameters have been added in <class 'sklearn.linear_model.stochastic_gradient.SGDClassifier'> in 0.19. If both are left unset, they default to max_iter=5 and tol=None. If tol is not None, max_iter defaults to max_iter=1000. From 0.21, default max_iter will be 1000, and default tol will be 1e-3.\n",
      "  \"and default tol will be 1e-3.\" % type(self), FutureWarning)\n"
     ]
    },
    {
     "name": "stdout",
     "output_type": "stream",
     "text": [
      "-- Epoch 1\n",
      "Norm: 0.07, NNZs: 30, Bias: -0.506457, T: 600, Avg. loss: 1.022918\n",
      "Total training time: 0.01 seconds.\n",
      "-- Epoch 2\n",
      "Norm: 0.07, NNZs: 30, Bias: -0.559319, T: 1200, Avg. loss: 1.002788\n",
      "Total training time: 0.02 seconds.\n",
      "-- Epoch 3\n",
      "Norm: 0.07, NNZs: 30, Bias: -0.584339, T: 1800, Avg. loss: 0.999224\n",
      "Total training time: 0.03 seconds.\n",
      "-- Epoch 4\n",
      "Norm: 0.07, NNZs: 30, Bias: -0.622590, T: 2400, Avg. loss: 0.998249\n",
      "Total training time: 0.04 seconds.\n",
      "-- Epoch 5\n",
      "Norm: 0.08, NNZs: 30, Bias: -0.636101, T: 3000, Avg. loss: 0.997230\n",
      "Total training time: 0.05 seconds.\n",
      "[CV] .............. alpha=0.1, score=0.5033333333333333, total=   0.0s\n",
      "[CV] alpha=0.1 .......................................................\n"
     ]
    },
    {
     "name": "stderr",
     "output_type": "stream",
     "text": [
      "D:\\Anaconda\\lib\\site-packages\\sklearn\\linear_model\\stochastic_gradient.py:128: FutureWarning: max_iter and tol parameters have been added in <class 'sklearn.linear_model.stochastic_gradient.SGDClassifier'> in 0.19. If both are left unset, they default to max_iter=5 and tol=None. If tol is not None, max_iter defaults to max_iter=1000. From 0.21, default max_iter will be 1000, and default tol will be 1e-3.\n",
      "  \"and default tol will be 1e-3.\" % type(self), FutureWarning)\n"
     ]
    },
    {
     "name": "stdout",
     "output_type": "stream",
     "text": [
      "-- Epoch 1\n",
      "Norm: 0.09, NNZs: 30, Bias: -0.310046, T: 600, Avg. loss: 1.025609\n",
      "Total training time: 0.00 seconds.\n",
      "-- Epoch 2\n",
      "Norm: 0.09, NNZs: 30, Bias: -0.421830, T: 1200, Avg. loss: 1.003282\n",
      "Total training time: 0.01 seconds.\n",
      "-- Epoch 3\n",
      "Norm: 0.10, NNZs: 30, Bias: -0.451650, T: 1800, Avg. loss: 0.999824\n",
      "Total training time: 0.02 seconds.\n",
      "-- Epoch 4\n",
      "Norm: 0.10, NNZs: 30, Bias: -0.484700, T: 2400, Avg. loss: 0.998628\n",
      "Total training time: 0.04 seconds.\n",
      "-- Epoch 5\n",
      "Norm: 0.10, NNZs: 30, Bias: -0.494891, T: 3000, Avg. loss: 0.997809\n",
      "Total training time: 0.05 seconds.\n",
      "[CV] .............. alpha=0.1, score=0.5033333333333333, total=   0.0s\n",
      "[CV] alpha=0.1 .......................................................\n"
     ]
    },
    {
     "name": "stderr",
     "output_type": "stream",
     "text": [
      "D:\\Anaconda\\lib\\site-packages\\sklearn\\linear_model\\stochastic_gradient.py:128: FutureWarning: max_iter and tol parameters have been added in <class 'sklearn.linear_model.stochastic_gradient.SGDClassifier'> in 0.19. If both are left unset, they default to max_iter=5 and tol=None. If tol is not None, max_iter defaults to max_iter=1000. From 0.21, default max_iter will be 1000, and default tol will be 1e-3.\n",
      "  \"and default tol will be 1e-3.\" % type(self), FutureWarning)\n"
     ]
    },
    {
     "name": "stdout",
     "output_type": "stream",
     "text": [
      "-- Epoch 1\n",
      "Norm: 0.08, NNZs: 30, Bias: -0.071928, T: 600, Avg. loss: 1.008671\n",
      "Total training time: 0.01 seconds.\n",
      "-- Epoch 2\n",
      "Norm: 0.08, NNZs: 30, Bias: -0.134773, T: 1200, Avg. loss: 1.005008\n",
      "Total training time: 0.03 seconds.\n",
      "-- Epoch 3\n",
      "Norm: 0.08, NNZs: 30, Bias: -0.144512, T: 1800, Avg. loss: 1.002230\n",
      "Total training time: 0.04 seconds.\n",
      "-- Epoch 4\n",
      "Norm: 0.08, NNZs: 30, Bias: -0.165284, T: 2400, Avg. loss: 1.000962\n",
      "Total training time: 0.05 seconds.\n",
      "-- Epoch 5\n",
      "Norm: 0.08, NNZs: 30, Bias: -0.171907, T: 3000, Avg. loss: 1.000315\n",
      "Total training time: 0.07 seconds.\n",
      "[CV] .............. alpha=0.1, score=0.5033333333333333, total=   0.0s\n",
      "[CV] alpha=0.5 .......................................................\n"
     ]
    },
    {
     "name": "stderr",
     "output_type": "stream",
     "text": [
      "D:\\Anaconda\\lib\\site-packages\\sklearn\\linear_model\\stochastic_gradient.py:128: FutureWarning: max_iter and tol parameters have been added in <class 'sklearn.linear_model.stochastic_gradient.SGDClassifier'> in 0.19. If both are left unset, they default to max_iter=5 and tol=None. If tol is not None, max_iter defaults to max_iter=1000. From 0.21, default max_iter will be 1000, and default tol will be 1e-3.\n",
      "  \"and default tol will be 1e-3.\" % type(self), FutureWarning)\n"
     ]
    },
    {
     "name": "stdout",
     "output_type": "stream",
     "text": [
      "-- Epoch 1\n",
      "Norm: 0.02, NNZs: 30, Bias: 0.196730, T: 600, Avg. loss: 1.012751\n",
      "Total training time: 0.01 seconds.\n",
      "-- Epoch 2\n",
      "Norm: 0.02, NNZs: 30, Bias: 0.186124, T: 1200, Avg. loss: 1.002545\n",
      "Total training time: 0.03 seconds.\n",
      "-- Epoch 3\n",
      "Norm: 0.02, NNZs: 30, Bias: 0.181108, T: 1800, Avg. loss: 1.001831\n",
      "Total training time: 0.04 seconds.\n",
      "-- Epoch 4\n",
      "Norm: 0.02, NNZs: 30, Bias: 0.173436, T: 2400, Avg. loss: 1.001635\n",
      "Total training time: 0.06 seconds.\n",
      "-- Epoch 5\n",
      "Norm: 0.02, NNZs: 30, Bias: 0.170730, T: 3000, Avg. loss: 1.001431\n",
      "Total training time: 0.07 seconds.\n",
      "[CV] ............. alpha=0.5, score=0.49666666666666665, total=   0.0s\n",
      "[CV] alpha=0.5 .......................................................\n"
     ]
    },
    {
     "name": "stderr",
     "output_type": "stream",
     "text": [
      "D:\\Anaconda\\lib\\site-packages\\sklearn\\linear_model\\stochastic_gradient.py:128: FutureWarning: max_iter and tol parameters have been added in <class 'sklearn.linear_model.stochastic_gradient.SGDClassifier'> in 0.19. If both are left unset, they default to max_iter=5 and tol=None. If tol is not None, max_iter defaults to max_iter=1000. From 0.21, default max_iter will be 1000, and default tol will be 1e-3.\n",
      "  \"and default tol will be 1e-3.\" % type(self), FutureWarning)\n"
     ]
    },
    {
     "name": "stdout",
     "output_type": "stream",
     "text": [
      "-- Epoch 1\n",
      "Norm: 0.02, NNZs: 30, Bias: 0.647525, T: 600, Avg. loss: 1.014652\n",
      "Total training time: 0.01 seconds.\n",
      "-- Epoch 2\n",
      "Norm: 0.02, NNZs: 30, Bias: 0.624995, T: 1200, Avg. loss: 1.005386\n",
      "Total training time: 0.02 seconds.\n",
      "-- Epoch 3\n",
      "Norm: 0.02, NNZs: 30, Bias: 0.619014, T: 1800, Avg. loss: 1.004692\n",
      "Total training time: 0.03 seconds.\n",
      "-- Epoch 4\n",
      "Norm: 0.02, NNZs: 30, Bias: 0.612386, T: 2400, Avg. loss: 1.004453\n",
      "Total training time: 0.04 seconds.\n",
      "-- Epoch 5\n",
      "Norm: 0.02, NNZs: 30, Bias: 0.610346, T: 3000, Avg. loss: 1.004289\n",
      "Total training time: 0.05 seconds.\n",
      "[CV] ............. alpha=0.5, score=0.49666666666666665, total=   0.0s\n",
      "[CV] alpha=0.5 .......................................................\n"
     ]
    },
    {
     "name": "stderr",
     "output_type": "stream",
     "text": [
      "D:\\Anaconda\\lib\\site-packages\\sklearn\\linear_model\\stochastic_gradient.py:128: FutureWarning: max_iter and tol parameters have been added in <class 'sklearn.linear_model.stochastic_gradient.SGDClassifier'> in 0.19. If both are left unset, they default to max_iter=5 and tol=None. If tol is not None, max_iter defaults to max_iter=1000. From 0.21, default max_iter will be 1000, and default tol will be 1e-3.\n",
      "  \"and default tol will be 1e-3.\" % type(self), FutureWarning)\n"
     ]
    },
    {
     "name": "stdout",
     "output_type": "stream",
     "text": [
      "-- Epoch 1\n",
      "Norm: 0.02, NNZs: 30, Bias: 0.595266, T: 600, Avg. loss: 1.011969\n",
      "Total training time: 0.00 seconds.\n",
      "-- Epoch 2\n",
      "Norm: 0.02, NNZs: 30, Bias: 0.582604, T: 1200, Avg. loss: 1.005072\n",
      "Total training time: 0.01 seconds.\n",
      "-- Epoch 3\n",
      "Norm: 0.02, NNZs: 30, Bias: 0.580661, T: 1800, Avg. loss: 1.004513\n",
      "Total training time: 0.03 seconds.\n",
      "-- Epoch 4\n",
      "Norm: 0.02, NNZs: 30, Bias: 0.576498, T: 2400, Avg. loss: 1.004258\n",
      "Total training time: 0.04 seconds.\n",
      "-- Epoch 5\n",
      "Norm: 0.02, NNZs: 30, Bias: 0.575173, T: 3000, Avg. loss: 1.004128\n",
      "Total training time: 0.05 seconds.\n",
      "[CV] ............. alpha=0.5, score=0.49666666666666665, total=   0.0s\n"
     ]
    },
    {
     "name": "stderr",
     "output_type": "stream",
     "text": [
      "[Parallel(n_jobs=1)]: Done  18 out of  18 | elapsed:    1.3s finished\n",
      "D:\\Anaconda\\lib\\site-packages\\sklearn\\linear_model\\stochastic_gradient.py:128: FutureWarning: max_iter and tol parameters have been added in <class 'sklearn.linear_model.stochastic_gradient.SGDClassifier'> in 0.19. If both are left unset, they default to max_iter=5 and tol=None. If tol is not None, max_iter defaults to max_iter=1000. From 0.21, default max_iter will be 1000, and default tol will be 1e-3.\n",
      "  \"and default tol will be 1e-3.\" % type(self), FutureWarning)\n"
     ]
    },
    {
     "name": "stdout",
     "output_type": "stream",
     "text": [
      "-- Epoch 1\n",
      "Norm: 1.22, NNZs: 30, Bias: 1.078365, T: 900, Avg. loss: 1.083491\n",
      "Total training time: 0.00 seconds.\n",
      "-- Epoch 2\n",
      "Norm: 1.14, NNZs: 30, Bias: -0.485631, T: 1800, Avg. loss: 1.002422\n",
      "Total training time: 0.01 seconds.\n",
      "-- Epoch 3\n",
      "Norm: 1.16, NNZs: 30, Bias: 0.103781, T: 2700, Avg. loss: 1.025789\n",
      "Total training time: 0.02 seconds.\n",
      "-- Epoch 4\n",
      "Norm: 1.12, NNZs: 30, Bias: 0.052351, T: 3600, Avg. loss: 0.988375\n",
      "Total training time: 0.03 seconds.\n",
      "-- Epoch 5\n",
      "Norm: 1.16, NNZs: 30, Bias: -0.186706, T: 4500, Avg. loss: 1.017681\n",
      "Total training time: 0.04 seconds.\n"
     ]
    },
    {
     "data": {
      "text/plain": [
       "GridSearchCV(cv=None, error_score='raise',\n",
       "       estimator=SGDClassifier(alpha=0.0001, average=False, class_weight=None, epsilon=0.1,\n",
       "       eta0=0.0, fit_intercept=True, l1_ratio=0.15,\n",
       "       learning_rate='optimal', loss='hinge', max_iter=None, n_iter=None,\n",
       "       n_jobs=1, penalty='l2', power_t=0.5, random_state=2904,\n",
       "       shuffle=True, tol=None, verbose=5, warm_start=False),\n",
       "       fit_params=None, iid=True, n_jobs=1,\n",
       "       param_grid={'alpha': [0.0001, 0.005, 0.01, 0.05, 0.1, 0.5]},\n",
       "       pre_dispatch='2*n_jobs', refit=True, return_train_score='warn',\n",
       "       scoring='accuracy', verbose=5)"
      ]
     },
     "execution_count": 576,
     "metadata": {},
     "output_type": "execute_result"
    }
   ],
   "source": [
    "clf.fit(b, y_train)"
   ]
  },
  {
   "cell_type": "code",
   "execution_count": 577,
   "metadata": {
    "collapsed": false
   },
   "outputs": [
    {
     "data": {
      "text/plain": [
       "(0.5033333333333333, {'alpha': 0.005})"
      ]
     },
     "execution_count": 577,
     "metadata": {},
     "output_type": "execute_result"
    }
   ],
   "source": [
    "clf.best_score_, clf.best_params_"
   ]
  },
  {
   "cell_type": "code",
   "execution_count": 578,
   "metadata": {
    "collapsed": true
   },
   "outputs": [],
   "source": [
    "predictions = clf.predict(d)"
   ]
  },
  {
   "cell_type": "code",
   "execution_count": 579,
   "metadata": {
    "collapsed": false
   },
   "outputs": [
    {
     "name": "stdout",
     "output_type": "stream",
     "text": [
      "Precision:   0.44\n",
      "Recall:   0.50\n",
      "F1-measure:   0.36\n",
      "Accuracy:   0.54\n",
      "             precision    recall  f1-score   support\n",
      "\n",
      "          0       0.54      0.99      0.70       140\n",
      "          1       0.33      0.01      0.02       118\n",
      "\n",
      "avg / total       0.45      0.54      0.39       258\n",
      "\n"
     ]
    },
    {
     "data": {
      "image/png": "[encoded data removed]",
      "text/plain": [
       "<matplotlib.figure.Figure at 0x630b0198>"
      ]
     },
     "metadata": {},
     "output_type": "display_data"
    }
   ],
   "source": [
    "print(\"Precision: {0:6.2f}\".format(precision_score(y_test, predictions, average='macro')))\n",
    "print(\"Recall: {0:6.2f}\".format(recall_score(y_test, predictions, average='macro')))\n",
    "print(\"F1-measure: {0:6.2f}\".format(f1_score(y_test, predictions, average='macro')))\n",
    "print(\"Accuracy: {0:6.2f}\".format(accuracy_score(y_test, predictions)))\n",
    "print(classification_report(y_test, predictions))\n",
    "labels = clf.classes_\n",
    "sns.heatmap(data=confusion_matrix(y_test, predictions), annot=True, fmt=\"d\", cbar=False, xticklabels=labels, yticklabels=labels)\n",
    "plt.title(\"Confusion matrix\")\n",
    "plt.show()"
   ]
  },
  {
   "cell_type": "markdown",
   "metadata": {},
   "source": [
    "## Часть 3. Творческая\n",
    "Придумайте и попытайтесь сделать еще что-нибудь, чтобы улучшить качество классификации. \n",
    "Направления развития:\n",
    "* Морфологический признаки: \n",
    "    * использовать в качестве признаков только существительные или только именованные сущности;\n",
    "* Модели скрытых тем:\n",
    "    * использовать в качестве признаков скрытые темы;\n",
    "    * использовать в качестве признаков динамические скрытые темы \n",
    "    пример тут: (https://github.com/RaRe-Technologies/gensim/blob/develop/docs/notebooks/dtm_example.ipynb)\n",
    "* Синтаксические признаки:\n",
    "    * использовать SOV-тройки в качестве признаков\n",
    "    * кластеризовать SOV-тройки по эмбеддингам глаголов (обученные word2vec модели можно скачать отсюда: (http://rusvectores.org/ru/models/) и использовать только центроиды кластеров в качестве признаков\n",
    "* что-нибудь еще     "
   ]
  },
  {
   "cell_type": "code",
   "execution_count": 662,
   "metadata": {
    "collapsed": true
   },
   "outputs": [],
   "source": [
    "from gensim.models import ldamodel"
   ]
  },
  {
   "cell_type": "code",
   "execution_count": 708,
   "metadata": {
    "collapsed": false
   },
   "outputs": [],
   "source": [
    "from gensim.corpora import *\n",
    "texts = [intersection.text.iloc[i].split() for i in range(len(intersection))]\n",
    "dictionary = Dictionary(texts)\n",
    "corpus = [dictionary.doc2bow(text) for text in texts]"
   ]
  },
  {
   "cell_type": "code",
   "execution_count": 709,
   "metadata": {
    "collapsed": false,
    "scrolled": true
   },
   "outputs": [
    {
     "name": "stdout",
     "output_type": "stream",
     "text": [
      "Wall time: 1min 10s\n"
     ]
    }
   ],
   "source": [
    "%%time\n",
    "lda = ldamodel.LdaModel(corpus=corpus, id2word=dictionary, num_topics=10,\n",
    "                        alpha='auto', eta='auto', iterations = 20, passes = 10)"
   ]
  },
  {
   "cell_type": "code",
   "execution_count": 710,
   "metadata": {
    "collapsed": false
   },
   "outputs": [
    {
     "name": "stdout",
     "output_type": "stream",
     "text": [
      "Логарифмическая перплексивность модели составляет -7.395395065275654\n"
     ]
    }
   ],
   "source": [
    "print('Логарифмическая перплексивность модели составляет {0}'\n",
    "      .format(lda.log_perplexity(corpus)))"
   ]
  },
  {
   "cell_type": "code",
   "execution_count": 711,
   "metadata": {
    "collapsed": false,
    "scrolled": true
   },
   "outputs": [
    {
     "name": "stdout",
     "output_type": "stream",
     "text": [
      "Тема:0 Словарный состав:0.041*\"газпром\" + 0.020*\"нефть\" + 0.016*\"компания\" + 0.014*\"газ\" + 0.010*\"год\" + 0.009*\"месторождение\" + 0.009*\"который\" + 0.008*\"проект\" + 0.007*\"цена\" + 0.005*\"российский\"\n",
      "\n",
      "Тема:1 Словарный состав:0.042*\"газпром\" + 0.014*\"компания\" + 0.014*\"газ\" + 0.010*\"российский\" + 0.009*\"который\" + 0.008*\"сообщать\" + 0.008*\"год\" + 0.007*\"украина\" + 0.007*\"поставка\" + 0.006*\"газовый\"\n",
      "\n",
      "Тема:2 Словарный состав:0.029*\"газпром\" + 0.016*\"компания\" + 0.010*\"газ\" + 0.007*\"нефть\" + 0.007*\"сообщать\" + 0.007*\"цена\" + 0.006*\"российский\" + 0.005*\"который\" + 0.005*\"сделка\" + 0.004*\"проект\"\n",
      "\n",
      "Тема:3 Словарный состав:0.024*\"газпром\" + 0.013*\"компания\" + 0.010*\"газ\" + 0.008*\"газпромбанк\" + 0.008*\"который\" + 0.007*\"сообщать\" + 0.007*\"год\" + 0.006*\"российский\" + 0.005*\"нефть\" + 0.005*\"источник\"\n",
      "\n",
      "Тема:4 Словарный состав:0.015*\"газпром\" + 0.007*\"газ\" + 0.007*\"год\" + 0.006*\"компания\" + 0.006*\"который\" + 0.004*\"газпром-медиа\" + 0.004*\"цена\" + 0.004*\"российский\" + 0.004*\"холдинг\" + 0.004*\"телеканал\"\n",
      "\n",
      "Тема:5 Словарный состав:0.033*\"газпром\" + 0.017*\"газ\" + 0.011*\"компания\" + 0.009*\"который\" + 0.009*\"нефть\" + 0.008*\"поставка\" + 0.007*\"российский\" + 0.006*\"год\" + 0.006*\"сообщать\" + 0.006*\"украина\"\n",
      "\n",
      "Тема:6 Словарный состав:0.039*\"газпром\" + 0.024*\"газ\" + 0.017*\"компания\" + 0.013*\"год\" + 0.010*\"российский\" + 0.008*\"цена\" + 0.008*\"нефть\" + 0.008*\"который\" + 0.008*\"рынок\" + 0.007*\"поставка\"\n",
      "\n",
      "Тема:7 Словарный состав:0.032*\"газпром\" + 0.023*\"компания\" + 0.015*\"год\" + 0.011*\"прибыль\" + 0.011*\"нефть\" + 0.009*\"чистый\" + 0.008*\"проект\" + 0.007*\"сообщать\" + 0.007*\"первый\" + 0.007*\"газ\"\n",
      "\n",
      "Тема:8 Словарный состав:0.020*\"газпром\" + 0.012*\"компания\" + 0.010*\"газпром-медиа\" + 0.007*\"нефть\" + 0.007*\"холдинг\" + 0.006*\"который\" + 0.006*\"становиться\" + 0.006*\"год\" + 0.005*\"группа\" + 0.005*\"российский\"\n",
      "\n",
      "Тема:9 Словарный состав:0.021*\"газпром\" + 0.010*\"газ\" + 0.009*\"год\" + 0.009*\"который\" + 0.009*\"компания\" + 0.005*\"украина\" + 0.005*\"становиться\" + 0.005*\"проект\" + 0.005*\"российский\" + 0.005*\"роснефть\"\n",
      "\n"
     ]
    }
   ],
   "source": [
    "for idx, topic in lda.print_topics(-1):\n",
    "    print('Тема:{0} Словарный состав:{1}\\n'.format(idx, topic))"
   ]
  }
 ],
 "metadata": {
  "kernelspec": {
   "display_name": "Python 3",
   "language": "python",
   "name": "python3"
  },
  "language_info": {
   "codemirror_mode": {
    "name": "ipython",
    "version": 3
   },
   "file_extension": ".py",
   "mimetype": "text/x-python",
   "name": "python",
   "nbconvert_exporter": "python",
   "pygments_lexer": "ipython3",
   "version": "3.6.0"
  }
 },
 "nbformat": 4,
 "nbformat_minor": 2
}
